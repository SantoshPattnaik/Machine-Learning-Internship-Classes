{
 "cells": [
  {
   "cell_type": "code",
   "execution_count": 12,
   "id": "65886b2a",
   "metadata": {},
   "outputs": [],
   "source": [
    "from sklearn.datasets import load_iris\n",
    "from sklearn.model_selection import train_test_split\n",
    "from sklearn.metrics import accuracy_score\n",
    "from sklearn.ensemble import BaggingClassifier\n",
    "from sklearn.tree import DecisionTreeClassifier\n",
    "from sklearn.ensemble import RandomForestClassifier"
   ]
  },
  {
   "cell_type": "code",
   "execution_count": 9,
   "id": "c8bd64ae",
   "metadata": {},
   "outputs": [
    {
     "name": "stdout",
     "output_type": "stream",
     "text": [
      "Bagging Classifier Accuracy:  1.0\n"
     ]
    }
   ],
   "source": [
    "x,y=load_iris(return_X_y=True)\n",
    "x_train,x_test,y_train,y_test=train_test_split(x,y,test_size=0.2,random_state=42)\n",
    "base_estimator=DecisionTreeClassifier()\n",
    "bagging=BaggingClassifier(estimator=base_estimator,\n",
    "                          n_estimators=50,\n",
    "                          max_samples=0.8,\n",
    "                          max_features=0.8,\n",
    "                          bootstrap=True,\n",
    "                          random_state=42)\n",
    "bagging.fit(x_train,y_train)\n",
    "print('Bagging Classifier Accuracy: ',accuracy_score(y_test,bagging.predict(x_test)))"
   ]
  },
  {
   "cell_type": "code",
   "execution_count": 15,
   "id": "e503f537",
   "metadata": {},
   "outputs": [
    {
     "name": "stdout",
     "output_type": "stream",
     "text": [
      "Random Forest Classifier Accuracy:  1.0\n"
     ]
    }
   ],
   "source": [
    "rf=RandomForestClassifier(\n",
    "    n_estimators=50,\n",
    "    max_samples=0.8,\n",
    "    max_features=0.8,\n",
    "    bootstrap=True,\n",
    "    random_state=42)\n",
    "\n",
    "rf.fit(x_train,y_train)\n",
    "rf.predict(x_test)\n",
    "print('Random Forest Classifier Accuracy: ',accuracy_score(y_test,rf.predict(x_test)))"
   ]
  },
  {
   "cell_type": "markdown",
   "id": "7e2c75ab",
   "metadata": {},
   "source": [
    "## OOB Score wioth bagging and random forest"
   ]
  },
  {
   "cell_type": "code",
   "execution_count": 19,
   "id": "b9655e3c",
   "metadata": {},
   "outputs": [
    {
     "name": "stdout",
     "output_type": "stream",
     "text": [
      "Bagging OOB Score:  0.925\n",
      "Bagging OOB Score Accuracy:  1.0\n"
     ]
    }
   ],
   "source": [
    "bagging=BaggingClassifier(\n",
    "    estimator=DecisionTreeClassifier(),\n",
    "    n_estimators=50,\n",
    "    max_samples=0.8,\n",
    "    max_features=0.8,\n",
    "    bootstrap=True,\n",
    "    oob_score=True,\n",
    "    random_state=42\n",
    ")\n",
    "bagging.fit(x_train,y_train)\n",
    "print('Bagging OOB Score: ', bagging.oob_score_)\n",
    "print('Bagging OOB Score Accuracy: ',accuracy_score(y_test,bagging.predict(x_test)))"
   ]
  },
  {
   "cell_type": "code",
   "execution_count": 18,
   "id": "b7058a8b",
   "metadata": {},
   "outputs": [
    {
     "name": "stdout",
     "output_type": "stream",
     "text": [
      "Random Forest OOB Score:  0.9166666666666666\n",
      "Random Forest OOB Score Accuracy:  1.0\n"
     ]
    }
   ],
   "source": [
    "rf=RandomForestClassifier(\n",
    "    n_estimators=50,\n",
    "    random_state=42,\n",
    "    oob_score=True\n",
    ")\n",
    "rf.fit(x_train,y_train)\n",
    "print('Random Forest OOB Score: ',rf.oob_score_)\n",
    "print('Random Forest OOB Score Accuracy: ',accuracy_score(y_test,rf.predict(x_test)))"
   ]
  }
 ],
 "metadata": {
  "kernelspec": {
   "display_name": "ml_internship",
   "language": "python",
   "name": "python3"
  },
  "language_info": {
   "codemirror_mode": {
    "name": "ipython",
    "version": 3
   },
   "file_extension": ".py",
   "mimetype": "text/x-python",
   "name": "python",
   "nbconvert_exporter": "python",
   "pygments_lexer": "ipython3",
   "version": "3.13.2"
  }
 },
 "nbformat": 4,
 "nbformat_minor": 5
}
