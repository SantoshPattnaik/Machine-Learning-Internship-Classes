{
 "cells": [
  {
   "cell_type": "markdown",
   "id": "3bf10018",
   "metadata": {},
   "source": [
    "# Dated 29 May, 2025"
   ]
  },
  {
   "cell_type": "code",
   "execution_count": 2,
   "id": "e26f96fb",
   "metadata": {},
   "outputs": [],
   "source": [
    "import numpy as np"
   ]
  },
  {
   "cell_type": "code",
   "execution_count": null,
   "id": "4e12773a",
   "metadata": {},
   "outputs": [
    {
     "name": "stdout",
     "output_type": "stream",
     "text": [
      "[1 2 3 4 5]\n"
     ]
    }
   ],
   "source": [
    "arr=np.array([1,2,3,4,5])\n",
    "print(arr)"
   ]
  },
  {
   "cell_type": "code",
   "execution_count": 9,
   "id": "bff27f71",
   "metadata": {},
   "outputs": [
    {
     "name": "stdout",
     "output_type": "stream",
     "text": [
      "[[1 2 3]\n",
      " [4 5 6]]\n"
     ]
    }
   ],
   "source": [
    "arr_2d=np.array([[1,2,3],[4,5,6]])\n",
    "print(arr_2d)"
   ]
  },
  {
   "cell_type": "code",
   "execution_count": 14,
   "id": "f6d08d20",
   "metadata": {},
   "outputs": [
    {
     "name": "stdout",
     "output_type": "stream",
     "text": [
      "[1, 2, 3, 4, 5, 1, 2, 3, 4, 5, 1, 2, 3, 4, 5, 1, 2, 3, 4, 5, 1, 2, 3, 4, 5]\n"
     ]
    },
    {
     "data": {
      "text/plain": [
       "array([ 5, 10, 15])"
      ]
     },
     "execution_count": 14,
     "metadata": {},
     "output_type": "execute_result"
    }
   ],
   "source": [
    "list=[1,2,3,4,5]\n",
    "print(list*5)\n",
    "\n",
    "np_array=np.array([1,2,3])\n",
    "np_array*5"
   ]
  },
  {
   "cell_type": "code",
   "execution_count": null,
   "id": "d4ab08e4",
   "metadata": {},
   "outputs": [
    {
     "data": {
      "text/plain": [
       "array([[0., 0., 0., 0.],\n",
       "       [0., 0., 0., 0.],\n",
       "       [0., 0., 0., 0.]])"
      ]
     },
     "execution_count": 16,
     "metadata": {},
     "output_type": "execute_result"
    }
   ],
   "source": [
    "# zero matrix\n",
    "zeroes=np.zeros((3,4))\n",
    "zeroes"
   ]
  },
  {
   "cell_type": "code",
   "execution_count": null,
   "id": "e94c8bd1",
   "metadata": {},
   "outputs": [
    {
     "data": {
      "text/plain": [
       "array([[1., 1., 1.],\n",
       "       [1., 1., 1.],\n",
       "       [1., 1., 1.]])"
      ]
     },
     "execution_count": 17,
     "metadata": {},
     "output_type": "execute_result"
    }
   ],
   "source": [
    "# one matrix\n",
    "ones=np.ones((3,3))\n",
    "ones"
   ]
  },
  {
   "cell_type": "code",
   "execution_count": null,
   "id": "2efd1fbc",
   "metadata": {},
   "outputs": [
    {
     "data": {
      "text/plain": [
       "array([[1., 0., 0., 0., 0.],\n",
       "       [0., 1., 0., 0., 0.],\n",
       "       [0., 0., 1., 0., 0.],\n",
       "       [0., 0., 0., 1., 0.],\n",
       "       [0., 0., 0., 0., 1.]])"
      ]
     },
     "execution_count": 19,
     "metadata": {},
     "output_type": "execute_result"
    }
   ],
   "source": [
    "# 5 x 5 Identity matrix\n",
    "arr=np.eye(5)\n",
    "arr"
   ]
  },
  {
   "cell_type": "code",
   "execution_count": 27,
   "id": "784ca704",
   "metadata": {},
   "outputs": [
    {
     "data": {
      "text/plain": [
       "array([  1. ,  20.8,  40.6,  60.4,  80.2, 100. ])"
      ]
     },
     "execution_count": 27,
     "metadata": {},
     "output_type": "execute_result"
    }
   ],
   "source": [
    "arr=np.linspace(1,100,6)\n",
    "arr"
   ]
  },
  {
   "cell_type": "code",
   "execution_count": null,
   "id": "9e33f011",
   "metadata": {},
   "outputs": [
    {
     "data": {
      "text/plain": [
       "array([0, 3, 6, 9])"
      ]
     },
     "execution_count": 28,
     "metadata": {},
     "output_type": "execute_result"
    }
   ],
   "source": [
    "arr=np.arange(0,10,3) # generates an array\n",
    "arr"
   ]
  },
  {
   "cell_type": "code",
   "execution_count": null,
   "id": "9b25e8f0",
   "metadata": {},
   "outputs": [
    {
     "data": {
      "text/plain": [
       "array([[8, 8, 8],\n",
       "       [8, 8, 8]])"
      ]
     },
     "execution_count": 30,
     "metadata": {},
     "output_type": "execute_result"
    }
   ],
   "source": [
    "# 8 array\n",
    "arr=np.full((2,3),8)\n",
    "arr"
   ]
  },
  {
   "cell_type": "code",
   "execution_count": null,
   "id": "2c5a6d1e",
   "metadata": {},
   "outputs": [
    {
     "data": {
      "text/plain": [
       "array([[0.53222791, 0.77460405, 0.86591242, 0.57698547, 0.260096  ],\n",
       "       [0.27887421, 0.43309197, 0.61372617, 0.55362272, 0.34629198],\n",
       "       [0.0307092 , 0.84568443, 0.47015359, 0.80870837, 0.21267649],\n",
       "       [0.97102949, 0.72173853, 0.95036681, 0.32942937, 0.52565163]])"
      ]
     },
     "execution_count": 31,
     "metadata": {},
     "output_type": "execute_result"
    }
   ],
   "source": [
    "# random number generation\n",
    "arr=np.random.rand(4,5)\n",
    "arr"
   ]
  },
  {
   "cell_type": "code",
   "execution_count": 32,
   "id": "9d0662e1",
   "metadata": {},
   "outputs": [
    {
     "data": {
      "text/plain": [
       "array([[21.77080601, 27.80090944, 79.47841338, 93.3917636 , 92.73951944,\n",
       "        29.32496345, 78.74310087],\n",
       "       [ 0.89547663, 42.85501611, 92.89578426, 69.58283528, 93.67237962,\n",
       "        61.12874623, 97.92765423],\n",
       "       [86.59035879, 50.0411803 , 78.68118544, 65.85470991, 79.19645424,\n",
       "        30.01556129, 30.33567477],\n",
       "       [85.44844594, 83.42818558, 62.80524157,  0.46431265, 79.93403148,\n",
       "         2.04932505, 16.79344292],\n",
       "       [13.34502016, 84.07446432, 39.39014032, 49.77130009, 40.50354031,\n",
       "         4.77221449, 50.82475508],\n",
       "       [61.81584883, 71.04312931, 71.46726705, 11.74647696, 33.93768323,\n",
       "        44.41335852, 85.95166676]])"
      ]
     },
     "execution_count": 32,
     "metadata": {},
     "output_type": "execute_result"
    }
   ],
   "source": [
    "arr=np.random.rand(6,7)*100\n",
    "arr"
   ]
  },
  {
   "cell_type": "code",
   "execution_count": 37,
   "id": "a1c170dc",
   "metadata": {},
   "outputs": [
    {
     "data": {
      "text/plain": [
       "array([[0, 1, 4, 2],\n",
       "       [4, 3, 2, 3]], dtype=int32)"
      ]
     },
     "execution_count": 37,
     "metadata": {},
     "output_type": "execute_result"
    }
   ],
   "source": [
    "arr=np.random.randint(size=(2,4),low=5)\n",
    "arr"
   ]
  },
  {
   "cell_type": "code",
   "execution_count": 39,
   "id": "f07726a3",
   "metadata": {},
   "outputs": [
    {
     "data": {
      "text/plain": [
       "array([[0., 1., 4., 2.],\n",
       "       [4., 3., 2., 3.]])"
      ]
     },
     "execution_count": 39,
     "metadata": {},
     "output_type": "execute_result"
    }
   ],
   "source": [
    "arr.astype(float)"
   ]
  },
  {
   "cell_type": "code",
   "execution_count": 44,
   "id": "fbee9a88",
   "metadata": {},
   "outputs": [
    {
     "data": {
      "text/plain": [
       "array([[False, False, False, False, False],\n",
       "       [False, False, False, False, False],\n",
       "       [False, False, False, False, False],\n",
       "       [False, False, False, False, False]])"
      ]
     },
     "execution_count": 44,
     "metadata": {},
     "output_type": "execute_result"
    }
   ],
   "source": [
    "arr=np.random.rand(4,5)\n",
    "arr.astype(int).astype(bool)"
   ]
  },
  {
   "cell_type": "code",
   "execution_count": 48,
   "id": "a1e08e3e",
   "metadata": {},
   "outputs": [
    {
     "name": "stdout",
     "output_type": "stream",
     "text": [
      "Array-->[1 2 3]\n",
      "List-->[1, 2, 3]\n"
     ]
    }
   ],
   "source": [
    "arr=np.array([1,2,3])\n",
    "print(f'Array-->{arr}')\n",
    "print(f'List-->{arr.tolist()}')"
   ]
  },
  {
   "cell_type": "code",
   "execution_count": 50,
   "id": "3498c377",
   "metadata": {},
   "outputs": [
    {
     "name": "stdout",
     "output_type": "stream",
     "text": [
      " eye(N, M=None, k=0, dtype=<class 'float'>, order='C', *, device=None,\n",
      "     like=None)\n",
      "\n",
      "Return a 2-D array with ones on the diagonal and zeros elsewhere.\n",
      "\n",
      "Parameters\n",
      "----------\n",
      "N : int\n",
      "  Number of rows in the output.\n",
      "M : int, optional\n",
      "  Number of columns in the output. If None, defaults to `N`.\n",
      "k : int, optional\n",
      "  Index of the diagonal: 0 (the default) refers to the main diagonal,\n",
      "  a positive value refers to an upper diagonal, and a negative value\n",
      "  to a lower diagonal.\n",
      "dtype : data-type, optional\n",
      "  Data-type of the returned array.\n",
      "order : {'C', 'F'}, optional\n",
      "    Whether the output should be stored in row-major (C-style) or\n",
      "    column-major (Fortran-style) order in memory.\n",
      "device : str, optional\n",
      "    The device on which to place the created array. Default: None.\n",
      "    For Array-API interoperability only, so must be ``\"cpu\"`` if passed.\n",
      "\n",
      "    .. versionadded:: 2.0.0\n",
      "like : array_like, optional\n",
      "        Reference object to allow the creation of arrays which are not\n",
      "        NumPy arrays. If an array-like passed in as ``like`` supports\n",
      "        the ``__array_function__`` protocol, the result will be defined\n",
      "        by it. In this case, it ensures the creation of an array object\n",
      "        compatible with that passed in via this argument.\n",
      "\n",
      "    .. versionadded:: 1.20.0\n",
      "\n",
      "Returns\n",
      "-------\n",
      "I : ndarray of shape (N,M)\n",
      "  An array where all elements are equal to zero, except for the `k`-th\n",
      "  diagonal, whose values are equal to one.\n",
      "\n",
      "See Also\n",
      "--------\n",
      "identity : (almost) equivalent function\n",
      "diag : diagonal 2-D array from a 1-D array specified by the user.\n",
      "\n",
      "Examples\n",
      "--------\n",
      ">>> import numpy as np\n",
      ">>> np.eye(2, dtype=int)\n",
      "array([[1, 0],\n",
      "       [0, 1]])\n",
      ">>> np.eye(3, k=1)\n",
      "array([[0.,  1.,  0.],\n",
      "       [0.,  0.,  1.],\n",
      "       [0.,  0.,  0.]])\n"
     ]
    }
   ],
   "source": [
    "np.info(np.eye)"
   ]
  },
  {
   "cell_type": "code",
   "execution_count": null,
   "id": "924ea082",
   "metadata": {},
   "outputs": [
    {
     "data": {
      "text/plain": [
       "3"
      ]
     },
     "execution_count": 52,
     "metadata": {},
     "output_type": "execute_result"
    }
   ],
   "source": [
    "# output number of elements in the array\n",
    "arr.size"
   ]
  },
  {
   "cell_type": "code",
   "execution_count": 57,
   "id": "f6578ae5",
   "metadata": {},
   "outputs": [
    {
     "data": {
      "text/plain": [
       "(2, 3)"
      ]
     },
     "execution_count": 57,
     "metadata": {},
     "output_type": "execute_result"
    }
   ],
   "source": [
    "arr=np.array([[1,2,3],\n",
    "              [4,5,6]])\n",
    "# outputs (rows, columns) of the matrix (dimensions)\n",
    "arr.shape"
   ]
  },
  {
   "cell_type": "code",
   "execution_count": 62,
   "id": "79469cbb",
   "metadata": {},
   "outputs": [
    {
     "data": {
      "text/plain": [
       "dtype('float64')"
      ]
     },
     "execution_count": 62,
     "metadata": {},
     "output_type": "execute_result"
    }
   ],
   "source": [
    "arr=np.random.rand(3,4)\n",
    "# output the datatype of the elements of the array\n",
    "arr.dtype"
   ]
  },
  {
   "cell_type": "code",
   "execution_count": 72,
   "id": "70a8b06d",
   "metadata": {},
   "outputs": [
    {
     "name": "stdout",
     "output_type": "stream",
     "text": [
      "[[0.14031593 0.39102567 0.97331147 0.28763184]\n",
      " [0.27800982 0.56197401 0.918975   0.35940862]\n",
      " [0.58030309 0.26126481 0.47055838 0.23520342]]\n"
     ]
    }
   ],
   "source": [
    "arr1=np.copy(arr)\n",
    "print(arr1)"
   ]
  },
  {
   "cell_type": "code",
   "execution_count": null,
   "id": "911e7779",
   "metadata": {},
   "outputs": [
    {
     "name": "stdout",
     "output_type": "stream",
     "text": [
      "[[0.85564409 0.59011823 0.35742682]\n",
      " [0.59569338 0.65086854 0.77652769]]\n",
      "[[0.85564409 0.59011823 0.35742682]\n",
      " [0.59569338 0.65086854 0.77652769]]\n",
      "[[0.85564409 0.59011823 0.35742682]\n",
      " [0.59569338 0.65086854 0.77652769]]\n"
     ]
    }
   ],
   "source": [
    "arr1=np.random.rand(2,3)\n",
    "print(arr1)\n",
    "arr2=np.copy(arr1)\n",
    "print(arr2)\n",
    "arr3=arr1\n",
    "print(arr3)\n"
   ]
  },
  {
   "cell_type": "code",
   "execution_count": 79,
   "id": "0b2e49b0",
   "metadata": {},
   "outputs": [
    {
     "name": "stdout",
     "output_type": "stream",
     "text": [
      "[[0.37024496 0.96793019 0.23294832]\n",
      " [0.01032433 0.26081845 0.69475662]]\n",
      "[[4600341360184120316 4606893559663154129 4597560868126624784]\n",
      " [4577105192857625024 4598370107452942892 4604433030860238961]]\n"
     ]
    }
   ],
   "source": [
    "arr=np.random.rand(2,3)\n",
    "print(arr)\n",
    "print(arr.view(int))"
   ]
  },
  {
   "cell_type": "code",
   "execution_count": 86,
   "id": "de65bea7",
   "metadata": {},
   "outputs": [
    {
     "name": "stdout",
     "output_type": "stream",
     "text": [
      "[[0.88858749 0.66846942 0.72680004]\n",
      " [0.41521957 0.56078483 0.17361936]]\n",
      "[[0.66846942 0.72680004 0.88858749]\n",
      " [0.17361936 0.41521957 0.56078483]]\n"
     ]
    }
   ],
   "source": [
    "arr=np.random.rand(2,3)\n",
    "print(arr)\n",
    "arr.sort()\n",
    "print(arr)"
   ]
  },
  {
   "cell_type": "code",
   "execution_count": 89,
   "id": "d91e482b",
   "metadata": {},
   "outputs": [
    {
     "name": "stdout",
     "output_type": "stream",
     "text": [
      "[[3 4]\n",
      " [1 2]]\n"
     ]
    },
    {
     "data": {
      "text/plain": [
       "array([3, 4, 1, 2])"
      ]
     },
     "execution_count": 89,
     "metadata": {},
     "output_type": "execute_result"
    }
   ],
   "source": [
    "arr_2d=np.array([[3,4],[1,2]])\n",
    "print(arr_2d)\n",
    "arr_2d.flatten()"
   ]
  },
  {
   "cell_type": "code",
   "execution_count": 94,
   "id": "c589ba0f",
   "metadata": {},
   "outputs": [
    {
     "name": "stdout",
     "output_type": "stream",
     "text": [
      "[[ 1  2  3]\n",
      " [10 20 30]]\n",
      "[[ 1 10]\n",
      " [ 2 20]\n",
      " [ 3 30]]\n"
     ]
    }
   ],
   "source": [
    "arr=np.array([[1,2,3],[10,20,30]])\n",
    "print(arr)\n",
    "# prints transpose matrix\n",
    "print(arr.T)"
   ]
  },
  {
   "cell_type": "code",
   "execution_count": 93,
   "id": "09eb6334",
   "metadata": {},
   "outputs": [
    {
     "data": {
      "text/plain": [
       "array([[ 1,  2],\n",
       "       [ 3, 10],\n",
       "       [20, 30]])"
      ]
     },
     "execution_count": 93,
     "metadata": {},
     "output_type": "execute_result"
    }
   ],
   "source": [
    "# alternates row values with column values\n",
    "arr.reshape(3,2)"
   ]
  },
  {
   "cell_type": "code",
   "execution_count": 3,
   "id": "edacf6ec",
   "metadata": {},
   "outputs": [
    {
     "name": "stdout",
     "output_type": "stream",
     "text": [
      "[[0.92172904 0.59515962 0.35175625]\n",
      " [0.78429139 0.93508447 0.85532786]]\n",
      "[[0.92172904 0.59515962 0.35175625 0.78429139 0.93508447 0.85532786]\n",
      " [0.         0.         0.         0.         0.         0.        ]\n",
      " [0.         0.         0.         0.         0.         0.        ]\n",
      " [0.         0.         0.         0.         0.         0.        ]\n",
      " [0.         0.         0.         0.         0.         0.        ]]\n"
     ]
    }
   ],
   "source": [
    "arr=np.random.rand(2,3)\n",
    "print(arr)\n",
    "arr.resize(5,6)\n",
    "print(arr)"
   ]
  },
  {
   "cell_type": "code",
   "execution_count": 5,
   "id": "63b24645",
   "metadata": {},
   "outputs": [
    {
     "name": "stdout",
     "output_type": "stream",
     "text": [
      "[[0.40897148 0.16710853 0.01585929]\n",
      " [0.49069686 0.88487265 0.3706714 ]]\n",
      "[0.40897148 0.16710853 0.01585929 0.49069686 0.88487265 0.3706714\n",
      " 1.        ]\n"
     ]
    }
   ],
   "source": [
    "arr=np.random.rand(2,3)\n",
    "print(arr)\n",
    "\n",
    "print(np.append(arr,1))\n"
   ]
  },
  {
   "cell_type": "code",
   "execution_count": 6,
   "id": "1c874fa2",
   "metadata": {},
   "outputs": [
    {
     "name": "stdout",
     "output_type": "stream",
     "text": [
      "[0.40897148 0.16710853 2.         0.01585929 0.49069686 0.88487265\n",
      " 0.3706714 ]\n"
     ]
    }
   ],
   "source": [
    "print(np.insert(arr,2,2))"
   ]
  },
  {
   "cell_type": "code",
   "execution_count": 10,
   "id": "4b9c7e69",
   "metadata": {},
   "outputs": [
    {
     "name": "stdout",
     "output_type": "stream",
     "text": [
      "[[0.39291202 0.52595469 0.41013993 0.23302289]\n",
      " [0.7978976  0.40822297 0.35762721 0.82994069]\n",
      " [0.11787175 0.14017603 0.42154518 0.04985337]]\n",
      "[[0.39291202 0.52595469 0.41013993 0.23302289]\n",
      " [0.11787175 0.14017603 0.42154518 0.04985337]]\n",
      "[[0.39291202 0.41013993 0.23302289]\n",
      " [0.11787175 0.42154518 0.04985337]]\n"
     ]
    }
   ],
   "source": [
    "arr=np.random.rand(3,4)\n",
    "print(arr)\n",
    "# deletes row 1 (indexed from 0) because axis=0\n",
    "arr=np.delete(arr,1,axis=0)\n",
    "print(arr)\n",
    "# deletes row 1 (indexed from 0) because axis=1\n",
    "arr=np.delete(arr,1,axis=1)\n",
    "print(arr)"
   ]
  },
  {
   "cell_type": "code",
   "execution_count": 22,
   "id": "7e88e030",
   "metadata": {},
   "outputs": [
    {
     "name": "stdout",
     "output_type": "stream",
     "text": [
      "[[75 83 53]\n",
      " [37 39 17]]\n",
      "[[46 60 68]\n",
      " [75 58 82]]\n",
      "\n",
      "[[75 83 53]\n",
      " [37 39 17]\n",
      " [46 60 68]\n",
      " [75 58 82]]\n",
      "\n",
      "[[75 83 53 46 60 68]\n",
      " [37 39 17 75 58 82]]\n"
     ]
    }
   ],
   "source": [
    "arr1=np.random.randint(size=(2,3),low=100)\n",
    "print(arr1)\n",
    "arr2=np.random.randint(size=(2,3),low=100)\n",
    "print(arr2)\n",
    "print()\n",
    "print(np.concatenate((arr1,arr2),axis=0))\n",
    "print()\n",
    "print(np.concatenate((arr1,arr2),axis=1))\n"
   ]
  },
  {
   "cell_type": "code",
   "execution_count": 29,
   "id": "e28ecff7",
   "metadata": {},
   "outputs": [
    {
     "name": "stdout",
     "output_type": "stream",
     "text": [
      "[array([[46, 60, 68],\n",
      "       [75, 58, 82]], dtype=int32)]\n",
      "[array([[46, 60, 68]], dtype=int32), array([[75, 58, 82]], dtype=int32)]\n"
     ]
    }
   ],
   "source": [
    "# splits the array into n sub-arrays where n<=number of rows in the array\n",
    "print(np.split(arr2,1))\n",
    "print(np.split(arr2,2))"
   ]
  },
  {
   "cell_type": "code",
   "execution_count": 78,
   "id": "d065e7ba",
   "metadata": {},
   "outputs": [
    {
     "name": "stdout",
     "output_type": "stream",
     "text": [
      "[[27 44 18 31]\n",
      " [25 32  8 43]\n",
      " [49 33 38 41]]\n",
      "\n",
      "[array([[27, 44],\n",
      "       [25, 32],\n",
      "       [49, 33]], dtype=int32), array([[18, 31],\n",
      "       [ 8, 43],\n",
      "       [38, 41]], dtype=int32)]\n"
     ]
    }
   ],
   "source": [
    "# hsplit splits the array into 4 number of splits\n",
    "arr=np.random.randint(size=(3,4),low=50)\n",
    "print(arr)\n",
    "print()\n",
    "print(np.hsplit(arr,2))"
   ]
  },
  {
   "cell_type": "code",
   "execution_count": 62,
   "id": "c0b9a012",
   "metadata": {},
   "outputs": [
    {
     "name": "stdout",
     "output_type": "stream",
     "text": [
      "2\n",
      "3\n",
      "1\n"
     ]
    }
   ],
   "source": [
    "# arr=np.random.randint(size=(2,2),low=50)\n",
    "arr=np.array([[1,2,3]])\n",
    "# for 1d array indexing\n",
    "arr=np.array([1,2,3])\n",
    "print(arr[1])\n",
    "# for 2d array indexing\n",
    "arr=np.array([[1,2,3]])\n",
    "print(arr[0,2])\n",
    "# for 3d array indexing\n",
    "arr=np.array([[[1,2,3]]])\n",
    "print(arr[0,0,0])\n"
   ]
  },
  {
   "cell_type": "code",
   "execution_count": 75,
   "id": "0a8b66aa",
   "metadata": {},
   "outputs": [
    {
     "name": "stdout",
     "output_type": "stream",
     "text": [
      "[[19 36 18]\n",
      " [ 7 15  5]]\n",
      "\n",
      "[[ 7 15  5]]\n"
     ]
    }
   ],
   "source": [
    "arr=np.random.randint(size=(2,3),low=50)\n",
    "print(arr)\n",
    "print()\n",
    "print(arr[1:])"
   ]
  },
  {
   "cell_type": "code",
   "execution_count": null,
   "id": "e51f6901",
   "metadata": {},
   "outputs": [
    {
     "name": "stdout",
     "output_type": "stream",
     "text": [
      "[[5 7 9]]\n",
      "[[-3 -3 -3]]\n",
      "[[ 4 10 18]]\n",
      "[[0.25 0.4  0.5 ]]\n",
      "[[  1  32 729]]\n",
      "False\n",
      "[[0.         0.69314718 1.09861229]]\n"
     ]
    }
   ],
   "source": [
    "arr1=np.array([[1,2,3]])\n",
    "arr2=np.array([[4,5,6]])\n",
    "\n",
    "print(np.add(arr1,arr2))\n",
    "print(np.subtract(arr1,arr2))\n",
    "print(np.multiply(arr1,arr2))\n",
    "print(np.divide(arr1,arr2))\n",
    "print(np.power(arr1,arr2))\n",
    "print(np.array_equal(arr1,arr2))\n",
    "print(np.log(np.array([1,2,3])))\n"
   ]
  },
  {
   "cell_type": "markdown",
   "id": "1dd6b304",
   "metadata": {},
   "source": []
  }
 ],
 "metadata": {
  "kernelspec": {
   "display_name": "ml_internship",
   "language": "python",
   "name": "python3"
  },
  "language_info": {
   "codemirror_mode": {
    "name": "ipython",
    "version": 3
   },
   "file_extension": ".py",
   "mimetype": "text/x-python",
   "name": "python",
   "nbconvert_exporter": "python",
   "pygments_lexer": "ipython3",
   "version": "3.13.2"
  }
 },
 "nbformat": 4,
 "nbformat_minor": 5
}
