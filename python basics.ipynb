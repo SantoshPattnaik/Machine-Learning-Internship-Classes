{
 "cells": [
  {
   "cell_type": "code",
   "execution_count": 2,
   "id": "fd5043e1",
   "metadata": {},
   "outputs": [],
   "source": [
    "var1=\"Santosh\"\n",
    "var2=19\n",
    "var3=19.26\n",
    "var4=False"
   ]
  },
  {
   "cell_type": "code",
   "execution_count": 3,
   "id": "27bfc810",
   "metadata": {},
   "outputs": [
    {
     "name": "stdout",
     "output_type": "stream",
     "text": [
      "var1: Santosh\n",
      "var2: 19\n",
      "var3: 19.26\n",
      "var3: False\n"
     ]
    }
   ],
   "source": [
    "print(f\"var1: {var1}\")\n",
    "print(\"var2: %d\"%(var2))\n",
    "print(\"var3:\",var3)\n",
    "print(\"var3:\",var4)"
   ]
  },
  {
   "cell_type": "code",
   "execution_count": 4,
   "id": "0cd28c04",
   "metadata": {},
   "outputs": [
    {
     "name": "stdout",
     "output_type": "stream",
     "text": [
      "Gary's Age = 24\n",
      "Roger's Age = 24\n",
      "Tom's Age = 24\n"
     ]
    }
   ],
   "source": [
    "gary_age=roger_age=tom_age=24\n",
    "print(\"Gary's Age =\",gary_age)\n",
    "print(\"Roger's Age =\",roger_age)\n",
    "print(\"Tom's Age =\",tom_age)"
   ]
  },
  {
   "cell_type": "code",
   "execution_count": 5,
   "id": "4fa9c945",
   "metadata": {},
   "outputs": [
    {
     "name": "stdout",
     "output_type": "stream",
     "text": [
      "charles <class 'str'>\n"
     ]
    }
   ],
   "source": [
    "name=\"charles\"\n",
    "print(name, type(name))"
   ]
  },
  {
   "cell_type": "code",
   "execution_count": 6,
   "id": "2ff69345",
   "metadata": {},
   "outputs": [
    {
     "name": "stdout",
     "output_type": "stream",
     "text": [
      "4.5\n",
      "5\n"
     ]
    },
    {
     "data": {
      "text/plain": [
       "float"
      ]
     },
     "execution_count": 6,
     "metadata": {},
     "output_type": "execute_result"
    }
   ],
   "source": [
    "sales_price_per_unit=4.5\n",
    "num_of_unit_purchased=5\n",
    "\n",
    "print(sales_price_per_unit)\n",
    "print(num_of_unit_purchased)\n",
    "\n",
    "type(num_of_unit_purchased)\n",
    "type(sales_price_per_unit)"
   ]
  },
  {
   "cell_type": "code",
   "execution_count": 7,
   "id": "95a6e8de",
   "metadata": {},
   "outputs": [
    {
     "name": "stdout",
     "output_type": "stream",
     "text": [
      "True\n",
      "False\n"
     ]
    },
    {
     "data": {
      "text/plain": [
       "NoneType"
      ]
     },
     "execution_count": 7,
     "metadata": {},
     "output_type": "execute_result"
    }
   ],
   "source": [
    "isStudent=True\n",
    "has_paid_fees=False\n",
    "print(isStudent)\n",
    "print(has_paid_fees)\n",
    "\n",
    "type(isStudent)\n",
    "type(has_paid_fees)\n",
    "\n",
    "myVar=None\n",
    "type(myVar)"
   ]
  },
  {
   "cell_type": "code",
   "execution_count": 8,
   "id": "64495cb6",
   "metadata": {},
   "outputs": [
    {
     "name": "stdout",
     "output_type": "stream",
     "text": [
      "20\n",
      "30\n",
      "Name: Santosh\n",
      "Roll: 33\n",
      "{40, 10, 3, 20}\n"
     ]
    }
   ],
   "source": [
    "my_list=[10,20,30]\n",
    "print(my_list[1])\n",
    "\n",
    "my_list=(10,20,30)\n",
    "print(my_list[2])\n",
    "\n",
    "my_dict={'Name':\"Santosh\",'Roll':33}\n",
    "print(\"Name:\",my_dict['Name'])\n",
    "print(\"Roll:\",my_dict['Roll'])\n",
    "\n",
    "my_set={10,20,3,3,40}\n",
    "print(my_set)"
   ]
  },
  {
   "cell_type": "markdown",
   "id": "0a25b3b9",
   "metadata": {},
   "source": [
    "# Date: 20 May, 2025"
   ]
  },
  {
   "cell_type": "code",
   "execution_count": 9,
   "id": "f494ae43",
   "metadata": {},
   "outputs": [
    {
     "data": {
      "text/plain": [
       "3"
      ]
     },
     "execution_count": 9,
     "metadata": {},
     "output_type": "execute_result"
    }
   ],
   "source": [
    "27//7"
   ]
  },
  {
   "cell_type": "code",
   "execution_count": 10,
   "id": "056e2e0d",
   "metadata": {},
   "outputs": [
    {
     "data": {
      "text/plain": [
       "False"
      ]
     },
     "execution_count": 10,
     "metadata": {},
     "output_type": "execute_result"
    }
   ],
   "source": [
    "True and False"
   ]
  },
  {
   "cell_type": "code",
   "execution_count": 11,
   "id": "8b9648dd",
   "metadata": {},
   "outputs": [
    {
     "name": "stdout",
     "output_type": "stream",
     "text": [
      "True\n",
      "False\n"
     ]
    }
   ],
   "source": [
    "print(12 not in range(13,16))\n",
    "print(12 in range(13,16))"
   ]
  },
  {
   "cell_type": "code",
   "execution_count": 12,
   "id": "895a5399",
   "metadata": {},
   "outputs": [
    {
     "name": "stdout",
     "output_type": "stream",
     "text": [
      "7\n"
     ]
    }
   ],
   "source": [
    "print(2|5)"
   ]
  },
  {
   "cell_type": "code",
   "execution_count": 13,
   "id": "cb8a5be0",
   "metadata": {},
   "outputs": [
    {
     "name": "stdout",
     "output_type": "stream",
     "text": [
      "0\n",
      "1\n",
      "2\n",
      "3\n",
      "4\n"
     ]
    }
   ],
   "source": [
    "x=500\n",
    "for x in range(0,5):\n",
    "    print(x)"
   ]
  },
  {
   "cell_type": "code",
   "execution_count": 14,
   "id": "48f163a6",
   "metadata": {},
   "outputs": [
    {
     "name": "stdout",
     "output_type": "stream",
     "text": [
      "110000\n"
     ]
    }
   ],
   "source": [
    "income=100000\n",
    "incentives=10000\n",
    "total_income=income+incentives\n",
    "print(total_income)"
   ]
  },
  {
   "cell_type": "code",
   "execution_count": 15,
   "id": "817ab300",
   "metadata": {},
   "outputs": [
    {
     "name": "stdout",
     "output_type": "stream",
     "text": [
      "112550.5\n"
     ]
    }
   ],
   "source": [
    "incentives=12550.50\n",
    "total_income=income+incentives\n",
    "print(total_income)"
   ]
  },
  {
   "cell_type": "code",
   "execution_count": 16,
   "id": "80b373da",
   "metadata": {},
   "outputs": [],
   "source": [
    "ketty_age=28\n",
    "kenny_age=25"
   ]
  },
  {
   "cell_type": "code",
   "execution_count": 17,
   "id": "2087b453",
   "metadata": {},
   "outputs": [
    {
     "data": {
      "text/plain": [
       "False"
      ]
     },
     "execution_count": 17,
     "metadata": {},
     "output_type": "execute_result"
    }
   ],
   "source": [
    "ketty_age==kenny_age"
   ]
  },
  {
   "cell_type": "code",
   "execution_count": 18,
   "id": "264e0249",
   "metadata": {},
   "outputs": [
    {
     "data": {
      "text/plain": [
       "False"
      ]
     },
     "execution_count": 18,
     "metadata": {},
     "output_type": "execute_result"
    }
   ],
   "source": [
    "ketty_age<=kenny_age"
   ]
  },
  {
   "cell_type": "code",
   "execution_count": 19,
   "id": "310589bd",
   "metadata": {},
   "outputs": [
    {
     "data": {
      "text/plain": [
       "True"
      ]
     },
     "execution_count": 19,
     "metadata": {},
     "output_type": "execute_result"
    }
   ],
   "source": [
    "ketty_age>=kenny_age"
   ]
  },
  {
   "cell_type": "code",
   "execution_count": 20,
   "id": "101cb097",
   "metadata": {},
   "outputs": [
    {
     "data": {
      "text/plain": [
       "False"
      ]
     },
     "execution_count": 20,
     "metadata": {},
     "output_type": "execute_result"
    }
   ],
   "source": [
    "ketty_age<kenny_age"
   ]
  },
  {
   "cell_type": "code",
   "execution_count": 21,
   "id": "ee6282f1",
   "metadata": {},
   "outputs": [
    {
     "data": {
      "text/plain": [
       "True"
      ]
     },
     "execution_count": 21,
     "metadata": {},
     "output_type": "execute_result"
    }
   ],
   "source": [
    "ketty_age>kenny_age"
   ]
  },
  {
   "cell_type": "code",
   "execution_count": 22,
   "id": "3f2d7e94",
   "metadata": {},
   "outputs": [],
   "source": [
    "is_student=True\n",
    "in_college=True\n",
    "in_school=False"
   ]
  },
  {
   "cell_type": "code",
   "execution_count": 23,
   "id": "febf310d",
   "metadata": {},
   "outputs": [
    {
     "data": {
      "text/plain": [
       "True"
      ]
     },
     "execution_count": 23,
     "metadata": {},
     "output_type": "execute_result"
    }
   ],
   "source": [
    "is_student or in_college"
   ]
  },
  {
   "cell_type": "code",
   "execution_count": 24,
   "id": "d5ebf25f",
   "metadata": {},
   "outputs": [
    {
     "data": {
      "text/plain": [
       "True"
      ]
     },
     "execution_count": 24,
     "metadata": {},
     "output_type": "execute_result"
    }
   ],
   "source": [
    "is_student or in_school"
   ]
  },
  {
   "cell_type": "code",
   "execution_count": 25,
   "id": "7c20e9cc",
   "metadata": {},
   "outputs": [
    {
     "data": {
      "text/plain": [
       "False"
      ]
     },
     "execution_count": 25,
     "metadata": {},
     "output_type": "execute_result"
    }
   ],
   "source": [
    "not(is_student)"
   ]
  },
  {
   "cell_type": "code",
   "execution_count": 26,
   "id": "f0fe68ac",
   "metadata": {},
   "outputs": [
    {
     "data": {
      "text/plain": [
       "False"
      ]
     },
     "execution_count": 26,
     "metadata": {},
     "output_type": "execute_result"
    }
   ],
   "source": [
    "number=10\n",
    "(number%2==0)&(number%3==0)"
   ]
  },
  {
   "cell_type": "code",
   "execution_count": 27,
   "id": "63032f6e",
   "metadata": {},
   "outputs": [
    {
     "data": {
      "text/plain": [
       "True"
      ]
     },
     "execution_count": 27,
     "metadata": {},
     "output_type": "execute_result"
    }
   ],
   "source": [
    "(number%2==0)|(number%3==0)\n"
   ]
  },
  {
   "cell_type": "code",
   "execution_count": 28,
   "id": "9881fddd",
   "metadata": {},
   "outputs": [
    {
     "name": "stdout",
     "output_type": "stream",
     "text": [
      "8 is greater than zero\n",
      "This is always printed\n"
     ]
    }
   ],
   "source": [
    "num=8\n",
    "if(num>0):\n",
    "    print(num,'is greater than zero')\n",
    "print('This is always printed')"
   ]
  },
  {
   "cell_type": "code",
   "execution_count": 29,
   "id": "96bdac12",
   "metadata": {},
   "outputs": [
    {
     "name": "stdout",
     "output_type": "stream",
     "text": [
      "This is always printed\n"
     ]
    }
   ],
   "source": [
    "num=-1\n",
    "if(num>0):\n",
    "    print(num, 'is greater than zero')\n",
    "print('This is always printed')"
   ]
  },
  {
   "cell_type": "code",
   "execution_count": 30,
   "id": "e055a2af",
   "metadata": {},
   "outputs": [
    {
     "name": "stdout",
     "output_type": "stream",
     "text": [
      "-1 is less than zero\n",
      "This is always printed\n"
     ]
    }
   ],
   "source": [
    "num=-1\n",
    "if(num>0):\n",
    "    print(num,'is greater than zero')\n",
    "else:\n",
    "    print(num,'is less than zero')\n",
    "print('This is always printed')"
   ]
  },
  {
   "cell_type": "code",
   "execution_count": 31,
   "id": "b7f2e920",
   "metadata": {},
   "outputs": [
    {
     "name": "stdout",
     "output_type": "stream",
     "text": [
      "Bus fare is 25\n"
     ]
    }
   ],
   "source": [
    "age=int(input('Enter age: '))\n",
    "if(0<age<3):\n",
    "    print('No fares for age group 0-3')\n",
    "elif(3<age<10):\n",
    "    print('Bus fare is 20')\n",
    "elif(10<age<20):\n",
    "    print('Bus fare is 25')\n",
    "else:\n",
    "    print('Bus fare is 30')"
   ]
  },
  {
   "cell_type": "code",
   "execution_count": 32,
   "id": "a7320376",
   "metadata": {},
   "outputs": [
    {
     "name": "stdout",
     "output_type": "stream",
     "text": [
      "4 is greater\n"
     ]
    }
   ],
   "source": [
    "num1=4\n",
    "num2=3\n",
    "num3=1\n",
    "if(num1>num2):\n",
    "    print(num1,'is greater')\n",
    "else:\n",
    "    if(num3>num2):\n",
    "        print(num3,'is greater')\n",
    "    else:\n",
    "        print(num2,'is greater')"
   ]
  },
  {
   "cell_type": "code",
   "execution_count": 33,
   "id": "4500d8e2",
   "metadata": {},
   "outputs": [
    {
     "name": "stdout",
     "output_type": "stream",
     "text": [
      "The greatest number is:  3\n"
     ]
    }
   ],
   "source": [
    "a=int(input('Enter first number: '))\n",
    "b=int(input('Enter second number: '))\n",
    "c=int(input('Enter third number: '))\n",
    "\n",
    "if a>=b:\n",
    "    if a>=c:\n",
    "        greatest=a\n",
    "    else:\n",
    "        greatest=c\n",
    "else:\n",
    "    if b>=c:\n",
    "        greatest=b\n",
    "    else:\n",
    "        greatest=c\n",
    "\n",
    "# Output the result\n",
    "print('The greatest number is: ',greatest)"
   ]
  },
  {
   "cell_type": "code",
   "execution_count": 34,
   "id": "87034009",
   "metadata": {},
   "outputs": [
    {
     "name": "stdout",
     "output_type": "stream",
     "text": [
      "Addition is:  55\n"
     ]
    }
   ],
   "source": [
    "num=10\n",
    "addition=0\n",
    "i=1\n",
    "\n",
    "while(i<=num):\n",
    "    addition=addition+i\n",
    "    i=i+1\n",
    "    \n",
    "print(\"Addition is: \",addition)"
   ]
  },
  {
   "cell_type": "code",
   "execution_count": 35,
   "id": "2d9dc022",
   "metadata": {},
   "outputs": [
    {
     "name": "stdout",
     "output_type": "stream",
     "text": [
      "Addition is:  55\n"
     ]
    }
   ],
   "source": [
    "num=range(1,11)\n",
    "addition=0\n",
    "\n",
    "for i in num:\n",
    "    addition=addition+i\n",
    "    \n",
    "print(\"Addition is: \",addition)"
   ]
  },
  {
   "cell_type": "markdown",
   "id": "f4332a7a",
   "metadata": {},
   "source": [
    "## 21 May, 2025"
   ]
  },
  {
   "cell_type": "code",
   "execution_count": 36,
   "id": "c7702cd1",
   "metadata": {},
   "outputs": [
    {
     "name": "stdout",
     "output_type": "stream",
     "text": [
      "K\n",
      "n\n",
      "o\n",
      "w\n",
      "l\n",
      "e\n",
      "d\n",
      "g\n",
      "e\n",
      "The loop skipped a space here\n",
      "H\n",
      "u\n",
      "t\n"
     ]
    }
   ],
   "source": [
    "text='Knowledge Hut'\n",
    "for letter in text:\n",
    "    if(letter==' '):\n",
    "        print('The loop skipped a space here')\n",
    "        continue\n",
    "    print(letter)"
   ]
  },
  {
   "cell_type": "code",
   "execution_count": 37,
   "id": "18000eb1",
   "metadata": {},
   "outputs": [
    {
     "name": "stdout",
     "output_type": "stream",
     "text": [
      "1 2 2 \n",
      "\n"
     ]
    }
   ],
   "source": [
    "levels=int(input('Enter number of levels: '))\n",
    "for level in range(1,levels+1):\n",
    "    for num in range(level):\n",
    "        print(level, end=' ')\n",
    "        \n",
    "print('\\n')"
   ]
  },
  {
   "cell_type": "markdown",
   "id": "293ff07f",
   "metadata": {},
   "source": [
    "# 22 May, 2025"
   ]
  },
  {
   "cell_type": "code",
   "execution_count": 1,
   "id": "da31bcaa",
   "metadata": {},
   "outputs": [
    {
     "name": "stdout",
     "output_type": "stream",
     "text": [
      "Hi Santosh Pattnaik\n"
     ]
    }
   ],
   "source": [
    "name=input('Enter your name: ')\n",
    "print('Hi',name)"
   ]
  },
  {
   "cell_type": "code",
   "execution_count": 2,
   "id": "5c857aef",
   "metadata": {},
   "outputs": [
    {
     "name": "stdout",
     "output_type": "stream",
     "text": [
      "Hello Alice\n"
     ]
    }
   ],
   "source": [
    "def greet(name):\n",
    "    print('Hello',name)\n",
    "    \n",
    "greet('Alice')"
   ]
  },
  {
   "cell_type": "code",
   "execution_count": 3,
   "id": "7aafed4b",
   "metadata": {},
   "outputs": [
    {
     "data": {
      "text/plain": [
       "13"
      ]
     },
     "execution_count": 3,
     "metadata": {},
     "output_type": "execute_result"
    }
   ],
   "source": [
    "def function(a,b):\n",
    "    return a+b\n",
    "function(11,2)"
   ]
  },
  {
   "cell_type": "code",
   "execution_count": 25,
   "id": "fa0819ad",
   "metadata": {},
   "outputs": [
    {
     "name": "stdout",
     "output_type": "stream",
     "text": [
      "Area of the circle of radius 5 is 78.50\n",
      "Circumference of the circle of radius 5 is 31.40\n"
     ]
    }
   ],
   "source": [
    "PI=3.14\n",
    "def circle(r):\n",
    "    print('Area of the circle of radius %d is %4.2f'%(r,PI*r**2))\n",
    "    print('Circumference of the circle of radius %d is %4.2f'%(r,2*PI*r))\n",
    "\n",
    "circle(5)    "
   ]
  },
  {
   "cell_type": "code",
   "execution_count": 26,
   "id": "2363aa47",
   "metadata": {},
   "outputs": [
    {
     "name": "stdout",
     "output_type": "stream",
     "text": [
      "My Name is Suriya\n",
      "My Name is Santosh\n"
     ]
    }
   ],
   "source": [
    "def usesDefaultParam(name=\"Santosh\"):\n",
    "    print(f'My Name is {name}')\n",
    "usesDefaultParam('Suriya')\n",
    "usesDefaultParam()"
   ]
  },
  {
   "cell_type": "code",
   "execution_count": 33,
   "id": "c1ca8367",
   "metadata": {},
   "outputs": [
    {
     "name": "stdout",
     "output_type": "stream",
     "text": [
      "2\n"
     ]
    }
   ],
   "source": [
    "x=lambda a,b: a*b\n",
    "print(x(1,2))"
   ]
  },
  {
   "cell_type": "code",
   "execution_count": 34,
   "id": "b53976bf",
   "metadata": {},
   "outputs": [
    {
     "name": "stdout",
     "output_type": "stream",
     "text": [
      "45\n"
     ]
    }
   ],
   "source": [
    "def sum_all(*args):\n",
    "    return sum(args)\n",
    "print(sum_all(1,2,3,4,5,6,7,8,9))"
   ]
  },
  {
   "cell_type": "code",
   "execution_count": 44,
   "id": "3c4a8794",
   "metadata": {},
   "outputs": [
    {
     "name": "stdout",
     "output_type": "stream",
     "text": [
      "<class 'tuple'>\n",
      "36\n"
     ]
    }
   ],
   "source": [
    "def func(*args):\n",
    "    print(type(args))\n",
    "    sum=0\n",
    "    for i in args:\n",
    "        sum+=i\n",
    "    print(sum)\n",
    "\n",
    "func(1,2,3,4,5,6,7,8)"
   ]
  },
  {
   "cell_type": "code",
   "execution_count": null,
   "id": "70aab8f5",
   "metadata": {},
   "outputs": [
    {
     "name": "stdout",
     "output_type": "stream",
     "text": [
      "<class 'dict'>\n",
      "name Santosh\n",
      "addr BBSR\n"
     ]
    }
   ],
   "source": [
    "# Create a function that accepts any number of keyword arguments\n",
    "# and print them in the form of key=value\n",
    "\n",
    "def dict(**kwargs):\n",
    "    print(type(kwargs))\n",
    "    for key,value in kwargs.items():\n",
    "        print(key,value)\n",
    "dict(name=\"Santosh\",addr=\"BBSR\")\n"
   ]
  },
  {
   "cell_type": "code",
   "execution_count": 2,
   "id": "c9f9a96f",
   "metadata": {},
   "outputs": [
    {
     "name": "stdout",
     "output_type": "stream",
     "text": [
      "Factorial of the number is 5040\n"
     ]
    }
   ],
   "source": [
    "def fact(num):\n",
    "    if num==1 or num==0:\n",
    "        return 1\n",
    "    else:\n",
    "        return num*fact(num-1)\n",
    "    \n",
    "print(f'Factorial of the number is {fact(7)}')"
   ]
  },
  {
   "cell_type": "markdown",
   "id": "95edbe1f",
   "metadata": {},
   "source": [
    "# 23 May, 2025"
   ]
  },
  {
   "cell_type": "code",
   "execution_count": 7,
   "id": "294aedcb",
   "metadata": {},
   "outputs": [
    {
     "name": "stdout",
     "output_type": "stream",
     "text": [
      "The number 8 is not prime\n"
     ]
    }
   ],
   "source": [
    "# write a function to check if a number is prime\n",
    "def primeCheck(num):\n",
    "    isPrime=True\n",
    "    if num==1 or num==0:\n",
    "        isPrime=False\n",
    "    elif num>1:\n",
    "        for i in range(2,int(num**0.5)+1):\n",
    "            if num%i==0:\n",
    "                isPrime=False\n",
    "            else: isPrime=True\n",
    "    if isPrime:\n",
    "        print(f'The number {num} is prime')\n",
    "    else:\n",
    "        print(f'The number {num} is not prime')\n",
    "\n",
    "primeCheck(8)\n",
    "        "
   ]
  },
  {
   "cell_type": "code",
   "execution_count": 9,
   "id": "fc671b73",
   "metadata": {},
   "outputs": [
    {
     "name": "stdout",
     "output_type": "stream",
     "text": [
      "Area of the rectangle is: 6\n"
     ]
    }
   ],
   "source": [
    "# create a function to calculate the area of a rectangle\n",
    "\n",
    "def areaOfRectangle():\n",
    "    length=int(input('Enter the length of the rectangle: '))\n",
    "    breadth=int(input('Enter the breadth of the rectangle: '))\n",
    "    \n",
    "    print(f'Area of the rectangle is: {length*breadth}')\n",
    "\n",
    "areaOfRectangle()"
   ]
  },
  {
   "cell_type": "code",
   "execution_count": 10,
   "id": "03a1d0b2",
   "metadata": {},
   "outputs": [
    {
     "name": "stdout",
     "output_type": "stream",
     "text": [
      "The number 40 is greater than 24\n"
     ]
    }
   ],
   "source": [
    "# create a function to find the maximum of two numbers\n",
    "def maxOfTwoNum():\n",
    "    num1=int(input('Enter the first number: '))\n",
    "    num2=int(input('Enter the second number: '))\n",
    "    \n",
    "    if num1>num2:\n",
    "        print(f'The number {num1} is greater than {num2}')\n",
    "    else:\n",
    "        print(f'The number {num2} is greater than {num1}')\n",
    "        \n",
    "maxOfTwoNum()"
   ]
  },
  {
   "cell_type": "code",
   "execution_count": 14,
   "id": "f094cbec",
   "metadata": {},
   "outputs": [
    {
     "name": "stdout",
     "output_type": "stream",
     "text": [
      "hsotnas\n"
     ]
    }
   ],
   "source": [
    "# write a function to reverse a string\n",
    "def reverseAString():\n",
    "    str=input('Enter a string: ')\n",
    "    \n",
    "    print(str[::-1])\n",
    "    \n",
    "reverseAString()"
   ]
  },
  {
   "cell_type": "code",
   "execution_count": 16,
   "id": "468c8118",
   "metadata": {},
   "outputs": [
    {
     "name": "stdout",
     "output_type": "stream",
     "text": [
      "No of vowels in the string Santosh is 2\n"
     ]
    }
   ],
   "source": [
    "# create a function to print number of vowels in a string\n",
    "def countVowels():\n",
    "    str=input('Enter a string: ')\n",
    "    vowels=['a','e','i','o','u']\n",
    "    count=0\n",
    "    for i in str:\n",
    "        if i in vowels:\n",
    "            count+=1\n",
    "    print(f'No of vowels in the string {str} is {count}')\n",
    "    \n",
    "countVowels()"
   ]
  },
  {
   "cell_type": "code",
   "execution_count": 37,
   "id": "81a840d8",
   "metadata": {},
   "outputs": [
    {
     "name": "stdout",
     "output_type": "stream",
     "text": [
      "Brand of the vehicle is: Mercedes-Benz\n",
      "Model of the vehicle is: C Class\n"
     ]
    }
   ],
   "source": [
    "class Car:\n",
    "    brand='mercedes'\n",
    "    def __init__(self,brand,model):\n",
    "        self.brand=brand\n",
    "        self.model=model\n",
    "    def showBrand(self):\n",
    "        print(f'Brand of the vehicle is: {self.brand}')\n",
    "    def showModel(self):\n",
    "        print(f'Model of the vehicle is: {self.model}')\n",
    "        \n",
    "myCar=Car('Maruti','800 AC')\n",
    "Car('Mercedes-Benz','C Class').showBrand()\n",
    "Car('Mercedes-Benz','C Class').showModel()\n",
    "# myCar.showModel()"
   ]
  },
  {
   "cell_type": "code",
   "execution_count": 40,
   "id": "8542ac18",
   "metadata": {},
   "outputs": [
    {
     "name": "stdout",
     "output_type": "stream",
     "text": [
      "Charge of the car is: 70\n",
      "Brand of the car is: Maruti\n",
      "Model of the car is: Alto\n"
     ]
    }
   ],
   "source": [
    "class ElectricCar(Car):\n",
    "    def __init__(self,charge,brand,model):\n",
    "        self.charge=charge\n",
    "        super().__init__(brand,model)\n",
    "    def showCharge(self):\n",
    "        print(f'Charge of the car is: {self.charge}')\n",
    "    def showBrand(self):\n",
    "        print(f'Brand of the car is: {self.brand}')\n",
    "    def showModel(self):\n",
    "        print(f'Model of the car is: {self.model}')\n",
    "        \n",
    "my_car=ElectricCar(70,'Maruti','Alto') \n",
    "my_car.showCharge()\n",
    "my_car.showBrand()\n",
    "my_car.showModel()"
   ]
  },
  {
   "cell_type": "code",
   "execution_count": 11,
   "id": "adec7e04",
   "metadata": {},
   "outputs": [
    {
     "name": "stdout",
     "output_type": "stream",
     "text": [
      "Brand of the car is BMW\n",
      "Model of the car is M3\n",
      "Year of the car is 2015\n",
      "BMW\n",
      "Brand of the car is BMW\n",
      "Model of the car is M3\n",
      "Year of the car is 2015\n",
      "None\n",
      "Brand of the car is BMW\n",
      "Model of the car is M3\n",
      "Year of the car is 2015\n",
      "BMW\n"
     ]
    }
   ],
   "source": [
    "# Create an object car and print it's brand\n",
    "class Car:\n",
    "    def __init__(self,brand,model,year):\n",
    "        self.__brand=brand\n",
    "        self.__model=model\n",
    "        self.__year=year\n",
    "        print(f'Brand of the car is {self.__brand}')\n",
    "        print(f'Model of the car is {self.__model}')\n",
    "        print(f'Year of the car is {self.__year}')\n",
    "        \n",
    "    def getBrand(self):\n",
    "        return self.__brand\n",
    "\n",
    "    def setBrand(self,brand):\n",
    "        self.__brand=brand\n",
    "    \n",
    "    \n",
    "print(Car('BMW','M3',2015).getBrand())\n",
    "print(Car('BMW','M3',2015).setBrand(\"Mercedes-Benz\"))\n",
    "print(Car('BMW','M3',2015).getBrand())\n",
    "        "
   ]
  },
  {
   "cell_type": "code",
   "execution_count": 4,
   "id": "88dfc938",
   "metadata": {},
   "outputs": [
    {
     "name": "stdout",
     "output_type": "stream",
     "text": [
      "CBR 250R engine is started\n"
     ]
    },
    {
     "data": {
      "text/plain": [
       "1"
      ]
     },
     "execution_count": 4,
     "metadata": {},
     "output_type": "execute_result"
    }
   ],
   "source": [
    "# Create a class vehicle and create a method to start the engine\n",
    "class Vehicle:\n",
    "    def start_engine(self):\n",
    "        print('Engine is started')\n",
    "\n",
    "class Bike(Vehicle):\n",
    "    number_of_obj=0\n",
    "    def __init__(self,brand,model,year):\n",
    "        self.brand=brand\n",
    "        self.__model=model\n",
    "        self.year=year\n",
    "        self.is_running=False\n",
    "        Bike.number_of_obj+=1\n",
    "    def getModel(self):\n",
    "        return self.__model\n",
    "    def setModel(self,new_value):\n",
    "        self.__model=new_value\n",
    "    def start_engine(self):\n",
    "        self.is_running=True\n",
    "        print(f'{self.__model} engine is started')\n",
    "    def start():\n",
    "        print('Running')\n",
    "        \n",
    "my_bike=Bike(\"Honda\",\"CBR 250R\",2010)\n",
    "my_bike.start_engine()\n",
    "my_bike.number_of_obj"
   ]
  },
  {
   "cell_type": "code",
   "execution_count": 6,
   "id": "2f5cd3a8",
   "metadata": {},
   "outputs": [
    {
     "name": "stdout",
     "output_type": "stream",
     "text": [
      "Starting Ionic\n"
     ]
    },
    {
     "data": {
      "text/plain": [
       "3"
      ]
     },
     "execution_count": 6,
     "metadata": {},
     "output_type": "execute_result"
    }
   ],
   "source": [
    "# Create a subclass Electric car and override the start method\n",
    "class ElectricCar(Bike):\n",
    "    def start(self):\n",
    "        print(f'Starting {self.getModel()}')\n",
    "        \n",
    "my_el=ElectricCar('BMW','Ionic',2025)\n",
    "my_el.start()\n",
    "Bike.number_of_obj"
   ]
  }
 ],
 "metadata": {
  "kernelspec": {
   "display_name": "ml_internship",
   "language": "python",
   "name": "python3"
  },
  "language_info": {
   "codemirror_mode": {
    "name": "ipython",
    "version": 3
   },
   "file_extension": ".py",
   "mimetype": "text/x-python",
   "name": "python",
   "nbconvert_exporter": "python",
   "pygments_lexer": "ipython3",
   "version": "3.13.2"
  }
 },
 "nbformat": 4,
 "nbformat_minor": 5
}
