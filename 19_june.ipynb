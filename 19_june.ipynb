{
 "cells": [
  {
   "cell_type": "code",
   "execution_count": 1,
   "id": "548bed61",
   "metadata": {},
   "outputs": [],
   "source": [
    "import numpy as np\n",
    "import pandas as pd\n",
    "import matplotlib.pyplot as plt\n",
    "from sklearn.linear_model import LinearRegression\n",
    "import warnings\n",
    "warnings.filterwarnings('ignore')"
   ]
  },
  {
   "cell_type": "code",
   "execution_count": 2,
   "id": "bbea9075",
   "metadata": {},
   "outputs": [
    {
     "data": {
      "text/html": [
       "<div>\n",
       "<style scoped>\n",
       "    .dataframe tbody tr th:only-of-type {\n",
       "        vertical-align: middle;\n",
       "    }\n",
       "\n",
       "    .dataframe tbody tr th {\n",
       "        vertical-align: top;\n",
       "    }\n",
       "\n",
       "    .dataframe thead th {\n",
       "        text-align: right;\n",
       "    }\n",
       "</style>\n",
       "<table border=\"1\" class=\"dataframe\">\n",
       "  <thead>\n",
       "    <tr style=\"text-align: right;\">\n",
       "      <th></th>\n",
       "      <th>Area</th>\n",
       "      <th>Price</th>\n",
       "    </tr>\n",
       "  </thead>\n",
       "  <tbody>\n",
       "    <tr>\n",
       "      <th>0</th>\n",
       "      <td>500</td>\n",
       "      <td>30</td>\n",
       "    </tr>\n",
       "    <tr>\n",
       "      <th>1</th>\n",
       "      <td>750</td>\n",
       "      <td>40</td>\n",
       "    </tr>\n",
       "    <tr>\n",
       "      <th>2</th>\n",
       "      <td>1000</td>\n",
       "      <td>50</td>\n",
       "    </tr>\n",
       "    <tr>\n",
       "      <th>3</th>\n",
       "      <td>1250</td>\n",
       "      <td>60</td>\n",
       "    </tr>\n",
       "    <tr>\n",
       "      <th>4</th>\n",
       "      <td>1500</td>\n",
       "      <td>70</td>\n",
       "    </tr>\n",
       "    <tr>\n",
       "      <th>5</th>\n",
       "      <td>1750</td>\n",
       "      <td>80</td>\n",
       "    </tr>\n",
       "    <tr>\n",
       "      <th>6</th>\n",
       "      <td>2000</td>\n",
       "      <td>90</td>\n",
       "    </tr>\n",
       "  </tbody>\n",
       "</table>\n",
       "</div>"
      ],
      "text/plain": [
       "   Area  Price\n",
       "0   500     30\n",
       "1   750     40\n",
       "2  1000     50\n",
       "3  1250     60\n",
       "4  1500     70\n",
       "5  1750     80\n",
       "6  2000     90"
      ]
     },
     "execution_count": 2,
     "metadata": {},
     "output_type": "execute_result"
    }
   ],
   "source": [
    "# create a sample area-price dataset\n",
    "data={\n",
    "    'Area':[500,750,1000,1250,1500,1750,2000],\n",
    "    'Price':[30,40,50,60,70,80,90]\n",
    "}\n",
    "df=pd.DataFrame(data)\n",
    "df"
   ]
  },
  {
   "cell_type": "code",
   "execution_count": 3,
   "id": "9ab88252",
   "metadata": {},
   "outputs": [
    {
     "name": "stdout",
     "output_type": "stream",
     "text": [
      "Intercept: [10.]\n",
      "Coefficient: [0.04]\n"
     ]
    },
    {
     "data": {
      "text/plain": [
       "array([[58.]])"
      ]
     },
     "execution_count": 3,
     "metadata": {},
     "output_type": "execute_result"
    }
   ],
   "source": [
    "x=df[['Area']] # features independent variable\n",
    "y=df[['Price']] # target (dependent variable)\n",
    "\n",
    "model =LinearRegression()\n",
    "model.fit(x,y) # fit the model\n",
    "print(f'Intercept: {model.intercept_}')\n",
    "print(f'Coefficient: {model.coef_[0]}')\n",
    "\n",
    "# Predict price for a new area\n",
    "model.predict([[1200]])\n"
   ]
  },
  {
   "cell_type": "code",
   "execution_count": 4,
   "id": "e001187a",
   "metadata": {},
   "outputs": [
    {
     "data": {
      "text/plain": [
       "58.0"
      ]
     },
     "execution_count": 4,
     "metadata": {},
     "output_type": "execute_result"
    }
   ],
   "source": [
    "# y=mx+c\n",
    "0.04*1200+10"
   ]
  },
  {
   "cell_type": "code",
   "execution_count": 5,
   "id": "a1e2dec9",
   "metadata": {},
   "outputs": [
    {
     "data": {
      "text/html": [
       "<div>\n",
       "<style scoped>\n",
       "    .dataframe tbody tr th:only-of-type {\n",
       "        vertical-align: middle;\n",
       "    }\n",
       "\n",
       "    .dataframe tbody tr th {\n",
       "        vertical-align: top;\n",
       "    }\n",
       "\n",
       "    .dataframe thead th {\n",
       "        text-align: right;\n",
       "    }\n",
       "</style>\n",
       "<table border=\"1\" class=\"dataframe\">\n",
       "  <thead>\n",
       "    <tr style=\"text-align: right;\">\n",
       "      <th></th>\n",
       "      <th>AreaOfBedRoom</th>\n",
       "      <th>Price</th>\n",
       "      <th>PossibleRents</th>\n",
       "    </tr>\n",
       "  </thead>\n",
       "  <tbody>\n",
       "    <tr>\n",
       "      <th>0</th>\n",
       "      <td>120</td>\n",
       "      <td>12</td>\n",
       "      <td>1</td>\n",
       "    </tr>\n",
       "    <tr>\n",
       "      <th>1</th>\n",
       "      <td>130</td>\n",
       "      <td>13</td>\n",
       "      <td>2</td>\n",
       "    </tr>\n",
       "    <tr>\n",
       "      <th>2</th>\n",
       "      <td>140</td>\n",
       "      <td>14</td>\n",
       "      <td>3</td>\n",
       "    </tr>\n",
       "    <tr>\n",
       "      <th>3</th>\n",
       "      <td>150</td>\n",
       "      <td>15</td>\n",
       "      <td>4</td>\n",
       "    </tr>\n",
       "    <tr>\n",
       "      <th>4</th>\n",
       "      <td>160</td>\n",
       "      <td>16</td>\n",
       "      <td>5</td>\n",
       "    </tr>\n",
       "  </tbody>\n",
       "</table>\n",
       "</div>"
      ],
      "text/plain": [
       "   AreaOfBedRoom  Price  PossibleRents\n",
       "0            120     12              1\n",
       "1            130     13              2\n",
       "2            140     14              3\n",
       "3            150     15              4\n",
       "4            160     16              5"
      ]
     },
     "execution_count": 5,
     "metadata": {},
     "output_type": "execute_result"
    }
   ],
   "source": [
    "data={\n",
    "    'AreaOfBedRoom':[120,130,140,150,160],\n",
    "    'Price':[12,13,14,15,16],\n",
    "    'PossibleRents':[1,2,3,4,5]\n",
    "}\n",
    "\n",
    "df=pd.DataFrame(data)\n",
    "df"
   ]
  },
  {
   "cell_type": "code",
   "execution_count": 6,
   "id": "f03a4d0a",
   "metadata": {},
   "outputs": [
    {
     "name": "stdout",
     "output_type": "stream",
     "text": [
      "Coefficient:  [0.0990099  0.00990099]\n"
     ]
    },
    {
     "data": {
      "text/plain": [
       "array([[2.62376238]])"
      ]
     },
     "execution_count": 6,
     "metadata": {},
     "output_type": "execute_result"
    }
   ],
   "source": [
    "x=df[['AreaOfBedRoom','PossibleRents']]\n",
    "y=df[['Price']]\n",
    "\n",
    "model=LinearRegression()\n",
    "model.fit(x,y)\n",
    "# print(f'Intercept: ',model.intercept_[0])\n",
    "print(f'Coefficient: ',model.coef_[0])\n",
    "\n",
    "model.predict([[23,24]])"
   ]
  },
  {
   "cell_type": "code",
   "execution_count": 7,
   "id": "103f0e4b",
   "metadata": {},
   "outputs": [
    {
     "data": {
      "text/plain": [
       "2.5146"
      ]
     },
     "execution_count": 7,
     "metadata": {},
     "output_type": "execute_result"
    }
   ],
   "source": [
    "0.099*23+0.0099*24"
   ]
  },
  {
   "cell_type": "code",
   "execution_count": 8,
   "id": "8b233ade",
   "metadata": {},
   "outputs": [
    {
     "data": {
      "text/html": [
       "<div>\n",
       "<style scoped>\n",
       "    .dataframe tbody tr th:only-of-type {\n",
       "        vertical-align: middle;\n",
       "    }\n",
       "\n",
       "    .dataframe tbody tr th {\n",
       "        vertical-align: top;\n",
       "    }\n",
       "\n",
       "    .dataframe thead th {\n",
       "        text-align: right;\n",
       "    }\n",
       "</style>\n",
       "<table border=\"1\" class=\"dataframe\">\n",
       "  <thead>\n",
       "    <tr style=\"text-align: right;\">\n",
       "      <th></th>\n",
       "      <th>mileage</th>\n",
       "      <th>age(years)</th>\n",
       "      <th>sell price($)</th>\n",
       "    </tr>\n",
       "  </thead>\n",
       "  <tbody>\n",
       "    <tr>\n",
       "      <th>0</th>\n",
       "      <td>126958</td>\n",
       "      <td>12</td>\n",
       "      <td>9902</td>\n",
       "    </tr>\n",
       "    <tr>\n",
       "      <th>1</th>\n",
       "      <td>151867</td>\n",
       "      <td>16</td>\n",
       "      <td>5605</td>\n",
       "    </tr>\n",
       "    <tr>\n",
       "      <th>2</th>\n",
       "      <td>136932</td>\n",
       "      <td>16</td>\n",
       "      <td>8172</td>\n",
       "    </tr>\n",
       "    <tr>\n",
       "      <th>3</th>\n",
       "      <td>108694</td>\n",
       "      <td>7</td>\n",
       "      <td>20059</td>\n",
       "    </tr>\n",
       "    <tr>\n",
       "      <th>4</th>\n",
       "      <td>124879</td>\n",
       "      <td>4</td>\n",
       "      <td>21687</td>\n",
       "    </tr>\n",
       "    <tr>\n",
       "      <th>...</th>\n",
       "      <td>...</td>\n",
       "      <td>...</td>\n",
       "      <td>...</td>\n",
       "    </tr>\n",
       "    <tr>\n",
       "      <th>495</th>\n",
       "      <td>83832</td>\n",
       "      <td>6</td>\n",
       "      <td>20567</td>\n",
       "    </tr>\n",
       "    <tr>\n",
       "      <th>496</th>\n",
       "      <td>56293</td>\n",
       "      <td>6</td>\n",
       "      <td>20531</td>\n",
       "    </tr>\n",
       "    <tr>\n",
       "      <th>497</th>\n",
       "      <td>83781</td>\n",
       "      <td>3</td>\n",
       "      <td>21709</td>\n",
       "    </tr>\n",
       "    <tr>\n",
       "      <th>498</th>\n",
       "      <td>196475</td>\n",
       "      <td>7</td>\n",
       "      <td>13273</td>\n",
       "    </tr>\n",
       "    <tr>\n",
       "      <th>499</th>\n",
       "      <td>165196</td>\n",
       "      <td>19</td>\n",
       "      <td>1365</td>\n",
       "    </tr>\n",
       "  </tbody>\n",
       "</table>\n",
       "<p>500 rows × 3 columns</p>\n",
       "</div>"
      ],
      "text/plain": [
       "     mileage  age(years)  sell price($)\n",
       "0     126958          12           9902\n",
       "1     151867          16           5605\n",
       "2     136932          16           8172\n",
       "3     108694           7          20059\n",
       "4     124879           4          21687\n",
       "..       ...         ...            ...\n",
       "495    83832           6          20567\n",
       "496    56293           6          20531\n",
       "497    83781           3          21709\n",
       "498   196475           7          13273\n",
       "499   165196          19           1365\n",
       "\n",
       "[500 rows x 3 columns]"
      ]
     },
     "execution_count": 8,
     "metadata": {},
     "output_type": "execute_result"
    }
   ],
   "source": [
    "data={\n",
    "    'Mileage':[69000,35000,57000,25000,45000],\n",
    "    'Age':[6,3,5,2,4],\n",
    "    'Sell_Price':[16000,18000,30000,45000,11000]\n",
    "}\n",
    "\n",
    "df=pd.read_csv('carprices.csv')\n",
    "df"
   ]
  },
  {
   "cell_type": "code",
   "execution_count": 9,
   "id": "f91c29f1",
   "metadata": {},
   "outputs": [],
   "source": [
    "# %matplotlib inline\n",
    "x=df[['mileage','age(years)']]\n",
    "y=df[['sell price($)']]\n",
    "# model.fit(x,y)\n",
    "\n",
    "# plt.scatter(x,y)\n",
    "# plt.legend()\n",
    "# plt.show()"
   ]
  },
  {
   "cell_type": "code",
   "execution_count": 10,
   "id": "05a8b1d6",
   "metadata": {},
   "outputs": [
    {
     "name": "stdout",
     "output_type": "stream",
     "text": [
      "     mileage  age(years)\n",
      "166    30939          15\n",
      "327    75271           1\n",
      "335   121381           2\n",
      "57    125174          10\n",
      "491   197461           8\n",
      "..       ...         ...\n",
      "193   170838          13\n",
      "477   119548           7\n",
      "464   137222           5\n",
      "386   187957          16\n",
      "377   120668           5\n",
      "\n",
      "[350 rows x 2 columns]\n",
      "     mileage  age(years)\n",
      "39    171845          14\n",
      "14     21023           5\n",
      "388    77991          11\n",
      "179   133376           6\n",
      "258    42504          14\n",
      "..       ...         ...\n",
      "185   145546           5\n",
      "378    11102           6\n",
      "409   115627          13\n",
      "470   135798          14\n",
      "357   129123          17\n",
      "\n",
      "[150 rows x 2 columns]\n"
     ]
    }
   ],
   "source": [
    "from sklearn.model_selection import train_test_split\n",
    "# X_train,X_test,y_train,Y_test=train_test_split(x,y,test_size=0.3,random_state=1) # data does not change after adding random_state parameter\n",
    "X_train,X_test,Y_train,Y_test=train_test_split(x,y,test_size=0.3)\n",
    "# plt.scatter(x)\n",
    "print(X_train)\n",
    "print(X_test)"
   ]
  },
  {
   "cell_type": "code",
   "execution_count": 11,
   "id": "ae503910",
   "metadata": {},
   "outputs": [
    {
     "data": {
      "text/html": [
       "<div>\n",
       "<style scoped>\n",
       "    .dataframe tbody tr th:only-of-type {\n",
       "        vertical-align: middle;\n",
       "    }\n",
       "\n",
       "    .dataframe tbody tr th {\n",
       "        vertical-align: top;\n",
       "    }\n",
       "\n",
       "    .dataframe thead th {\n",
       "        text-align: right;\n",
       "    }\n",
       "</style>\n",
       "<table border=\"1\" class=\"dataframe\">\n",
       "  <thead>\n",
       "    <tr style=\"text-align: right;\">\n",
       "      <th></th>\n",
       "      <th>mileage</th>\n",
       "      <th>age(years)</th>\n",
       "    </tr>\n",
       "  </thead>\n",
       "  <tbody>\n",
       "    <tr>\n",
       "      <th>39</th>\n",
       "      <td>171845</td>\n",
       "      <td>14</td>\n",
       "    </tr>\n",
       "    <tr>\n",
       "      <th>14</th>\n",
       "      <td>21023</td>\n",
       "      <td>5</td>\n",
       "    </tr>\n",
       "    <tr>\n",
       "      <th>388</th>\n",
       "      <td>77991</td>\n",
       "      <td>11</td>\n",
       "    </tr>\n",
       "    <tr>\n",
       "      <th>179</th>\n",
       "      <td>133376</td>\n",
       "      <td>6</td>\n",
       "    </tr>\n",
       "    <tr>\n",
       "      <th>258</th>\n",
       "      <td>42504</td>\n",
       "      <td>14</td>\n",
       "    </tr>\n",
       "    <tr>\n",
       "      <th>...</th>\n",
       "      <td>...</td>\n",
       "      <td>...</td>\n",
       "    </tr>\n",
       "    <tr>\n",
       "      <th>185</th>\n",
       "      <td>145546</td>\n",
       "      <td>5</td>\n",
       "    </tr>\n",
       "    <tr>\n",
       "      <th>378</th>\n",
       "      <td>11102</td>\n",
       "      <td>6</td>\n",
       "    </tr>\n",
       "    <tr>\n",
       "      <th>409</th>\n",
       "      <td>115627</td>\n",
       "      <td>13</td>\n",
       "    </tr>\n",
       "    <tr>\n",
       "      <th>470</th>\n",
       "      <td>135798</td>\n",
       "      <td>14</td>\n",
       "    </tr>\n",
       "    <tr>\n",
       "      <th>357</th>\n",
       "      <td>129123</td>\n",
       "      <td>17</td>\n",
       "    </tr>\n",
       "  </tbody>\n",
       "</table>\n",
       "<p>150 rows × 2 columns</p>\n",
       "</div>"
      ],
      "text/plain": [
       "     mileage  age(years)\n",
       "39    171845          14\n",
       "14     21023           5\n",
       "388    77991          11\n",
       "179   133376           6\n",
       "258    42504          14\n",
       "..       ...         ...\n",
       "185   145546           5\n",
       "378    11102           6\n",
       "409   115627          13\n",
       "470   135798          14\n",
       "357   129123          17\n",
       "\n",
       "[150 rows x 2 columns]"
      ]
     },
     "execution_count": 11,
     "metadata": {},
     "output_type": "execute_result"
    }
   ],
   "source": [
    "model=LinearRegression()\n",
    "model.fit(X_train,Y_train)\n",
    "# print(f'Coefficient: {model.coef_[0]}')\n",
    "# print(f'Intercept: {model.intercept_}')\n",
    "\n",
    "# print(model.predict(X_test))\n",
    "# print(Y_test)\n",
    "# model.predict(X_test)\n",
    "X_test"
   ]
  },
  {
   "cell_type": "code",
   "execution_count": 12,
   "id": "79ff31a6",
   "metadata": {},
   "outputs": [
    {
     "data": {
      "text/html": [
       "<div>\n",
       "<style scoped>\n",
       "    .dataframe tbody tr th:only-of-type {\n",
       "        vertical-align: middle;\n",
       "    }\n",
       "\n",
       "    .dataframe tbody tr th {\n",
       "        vertical-align: top;\n",
       "    }\n",
       "\n",
       "    .dataframe thead th {\n",
       "        text-align: right;\n",
       "    }\n",
       "</style>\n",
       "<table border=\"1\" class=\"dataframe\">\n",
       "  <thead>\n",
       "    <tr style=\"text-align: right;\">\n",
       "      <th></th>\n",
       "      <th>sell price($)</th>\n",
       "    </tr>\n",
       "  </thead>\n",
       "  <tbody>\n",
       "    <tr>\n",
       "      <th>39</th>\n",
       "      <td>5128</td>\n",
       "    </tr>\n",
       "    <tr>\n",
       "      <th>14</th>\n",
       "      <td>26522</td>\n",
       "    </tr>\n",
       "    <tr>\n",
       "      <th>388</th>\n",
       "      <td>20045</td>\n",
       "    </tr>\n",
       "    <tr>\n",
       "      <th>179</th>\n",
       "      <td>16530</td>\n",
       "    </tr>\n",
       "    <tr>\n",
       "      <th>258</th>\n",
       "      <td>14562</td>\n",
       "    </tr>\n",
       "    <tr>\n",
       "      <th>...</th>\n",
       "      <td>...</td>\n",
       "    </tr>\n",
       "    <tr>\n",
       "      <th>185</th>\n",
       "      <td>20010</td>\n",
       "    </tr>\n",
       "    <tr>\n",
       "      <th>378</th>\n",
       "      <td>21963</td>\n",
       "    </tr>\n",
       "    <tr>\n",
       "      <th>409</th>\n",
       "      <td>9093</td>\n",
       "    </tr>\n",
       "    <tr>\n",
       "      <th>470</th>\n",
       "      <td>6898</td>\n",
       "    </tr>\n",
       "    <tr>\n",
       "      <th>357</th>\n",
       "      <td>6085</td>\n",
       "    </tr>\n",
       "  </tbody>\n",
       "</table>\n",
       "<p>150 rows × 1 columns</p>\n",
       "</div>"
      ],
      "text/plain": [
       "     sell price($)\n",
       "39            5128\n",
       "14           26522\n",
       "388          20045\n",
       "179          16530\n",
       "258          14562\n",
       "..             ...\n",
       "185          20010\n",
       "378          21963\n",
       "409           9093\n",
       "470           6898\n",
       "357           6085\n",
       "\n",
       "[150 rows x 1 columns]"
      ]
     },
     "execution_count": 12,
     "metadata": {},
     "output_type": "execute_result"
    }
   ],
   "source": [
    "Y_test\n"
   ]
  },
  {
   "cell_type": "code",
   "execution_count": 13,
   "id": "23960ff3",
   "metadata": {},
   "outputs": [
    {
     "data": {
      "text/plain": [
       "array([[ 7265.41349611],\n",
       "       [23957.77610205],\n",
       "       [15081.55056696],\n",
       "       [17163.15430302],\n",
       "       [13949.16814525],\n",
       "       [15704.39985619],\n",
       "       [15275.31020716],\n",
       "       [ 7663.54448419],\n",
       "       [24254.12975465],\n",
       "       [11214.27321354],\n",
       "       [ 5699.26732953],\n",
       "       [ 1889.8614173 ],\n",
       "       [13973.39380198],\n",
       "       [20668.65688149],\n",
       "       [ 8404.758929  ],\n",
       "       [12477.84136811],\n",
       "       [15333.39341531],\n",
       "       [ 2854.32699001],\n",
       "       [21390.26302482],\n",
       "       [ 3102.91428488],\n",
       "       [ 9699.40227029],\n",
       "       [21144.35778831],\n",
       "       [18652.48237749],\n",
       "       [10131.94404431],\n",
       "       [21533.29054591],\n",
       "       [20979.69142764],\n",
       "       [ 2536.57970024],\n",
       "       [15730.48076405],\n",
       "       [11263.23823697],\n",
       "       [18885.66532248],\n",
       "       [18435.92068807],\n",
       "       [12034.31602795],\n",
       "       [ 6623.75940748],\n",
       "       [ 7093.54094245],\n",
       "       [16058.38987788],\n",
       "       [ 9142.13419492],\n",
       "       [ 7919.98138262],\n",
       "       [ 8136.32826053],\n",
       "       [19353.9350945 ],\n",
       "       [24573.20236618],\n",
       "       [11425.10905808],\n",
       "       [13036.8329734 ],\n",
       "       [ 7009.73348945],\n",
       "       [17880.73787078],\n",
       "       [21533.35235166],\n",
       "       [20640.3437989 ],\n",
       "       [18571.92034768],\n",
       "       [14429.97985667],\n",
       "       [ 8374.9472583 ],\n",
       "       [10560.1420358 ],\n",
       "       [10891.053391  ],\n",
       "       [18377.62064781],\n",
       "       [17488.5313197 ],\n",
       "       [ 7738.16383701],\n",
       "       [ 5222.19449066],\n",
       "       [11266.08849654],\n",
       "       [18397.57750261],\n",
       "       [23242.61621539],\n",
       "       [16465.06555555],\n",
       "       [ 2731.62616159],\n",
       "       [11290.60292143],\n",
       "       [11148.81359059],\n",
       "       [ 6324.87365772],\n",
       "       [21015.05567687],\n",
       "       [16225.42317904],\n",
       "       [15037.31637997],\n",
       "       [ 6777.32567624],\n",
       "       [17070.29858076],\n",
       "       [ 7985.71762283],\n",
       "       [10786.2403787 ],\n",
       "       [ 7919.23968629],\n",
       "       [19571.49887811],\n",
       "       [ 6320.32621794],\n",
       "       [ 2021.70880074],\n",
       "       [19579.70007954],\n",
       "       [11856.28903034],\n",
       "       [11371.04133974],\n",
       "       [16229.41231915],\n",
       "       [24721.84427155],\n",
       "       [ 9898.77122961],\n",
       "       [14150.93241537],\n",
       "       [16552.22886838],\n",
       "       [16599.45516644],\n",
       "       [17390.75123404],\n",
       "       [14231.05267127],\n",
       "       [18431.98017886],\n",
       "       [18833.07997285],\n",
       "       [14848.58243348],\n",
       "       [24403.37352545],\n",
       "       [ 6018.77158467],\n",
       "       [11657.8370543 ],\n",
       "       [15670.44908416],\n",
       "       [28547.01119667],\n",
       "       [10091.88745923],\n",
       "       [21030.04155798],\n",
       "       [21152.31580793],\n",
       "       [12929.65302061],\n",
       "       [17898.88101962],\n",
       "       [21422.31497997],\n",
       "       [ 9121.68084619],\n",
       "       [10898.46933035],\n",
       "       [13965.88768658],\n",
       "       [24663.40440038],\n",
       "       [ 8936.44259044],\n",
       "       [ 7158.37032968],\n",
       "       [16985.19924146],\n",
       "       [21661.59562831],\n",
       "       [10566.56803186],\n",
       "       [15291.23435611],\n",
       "       [24084.14588757],\n",
       "       [16608.95027477],\n",
       "       [20885.63703968],\n",
       "       [ 7256.5587538 ],\n",
       "       [18644.97119693],\n",
       "       [20946.33239074],\n",
       "       [ 4038.21666261],\n",
       "       [18452.14171488],\n",
       "       [17210.14248442],\n",
       "       [10922.71018253],\n",
       "       [12242.05438992],\n",
       "       [23052.36037563],\n",
       "       [13584.44786953],\n",
       "       [17373.38828214],\n",
       "       [26112.52897312],\n",
       "       [19354.18840661],\n",
       "       [12913.75522137],\n",
       "       [13376.64568122],\n",
       "       [ 3472.6521446 ],\n",
       "       [18411.05466531],\n",
       "       [19082.96219858],\n",
       "       [21926.742373  ],\n",
       "       [14404.5970794 ],\n",
       "       [17575.90437889],\n",
       "       [20923.42192546],\n",
       "       [20787.48711616],\n",
       "       [ 3266.07699229],\n",
       "       [18773.22966903],\n",
       "       [15202.24922761],\n",
       "       [21308.91573292],\n",
       "       [19700.64394259],\n",
       "       [ 8256.16869909],\n",
       "       [ 5728.72233722],\n",
       "       [22847.98902776],\n",
       "       [23881.57811537],\n",
       "       [18644.2193703 ],\n",
       "       [17522.99378109],\n",
       "       [23481.71853222],\n",
       "       [11159.23379191],\n",
       "       [ 9128.1585177 ],\n",
       "       [ 6506.90297029]])"
      ]
     },
     "execution_count": 13,
     "metadata": {},
     "output_type": "execute_result"
    }
   ],
   "source": [
    "model.predict(X_test)"
   ]
  },
  {
   "cell_type": "code",
   "execution_count": 14,
   "id": "5cf1179f",
   "metadata": {},
   "outputs": [
    {
     "data": {
      "text/html": [
       "<div>\n",
       "<style scoped>\n",
       "    .dataframe tbody tr th:only-of-type {\n",
       "        vertical-align: middle;\n",
       "    }\n",
       "\n",
       "    .dataframe tbody tr th {\n",
       "        vertical-align: top;\n",
       "    }\n",
       "\n",
       "    .dataframe thead th {\n",
       "        text-align: right;\n",
       "    }\n",
       "</style>\n",
       "<table border=\"1\" class=\"dataframe\">\n",
       "  <thead>\n",
       "    <tr style=\"text-align: right;\">\n",
       "      <th></th>\n",
       "      <th>sell price($)</th>\n",
       "    </tr>\n",
       "  </thead>\n",
       "  <tbody>\n",
       "    <tr>\n",
       "      <th>39</th>\n",
       "      <td>5128</td>\n",
       "    </tr>\n",
       "    <tr>\n",
       "      <th>14</th>\n",
       "      <td>26522</td>\n",
       "    </tr>\n",
       "    <tr>\n",
       "      <th>388</th>\n",
       "      <td>20045</td>\n",
       "    </tr>\n",
       "    <tr>\n",
       "      <th>179</th>\n",
       "      <td>16530</td>\n",
       "    </tr>\n",
       "    <tr>\n",
       "      <th>258</th>\n",
       "      <td>14562</td>\n",
       "    </tr>\n",
       "    <tr>\n",
       "      <th>...</th>\n",
       "      <td>...</td>\n",
       "    </tr>\n",
       "    <tr>\n",
       "      <th>185</th>\n",
       "      <td>20010</td>\n",
       "    </tr>\n",
       "    <tr>\n",
       "      <th>378</th>\n",
       "      <td>21963</td>\n",
       "    </tr>\n",
       "    <tr>\n",
       "      <th>409</th>\n",
       "      <td>9093</td>\n",
       "    </tr>\n",
       "    <tr>\n",
       "      <th>470</th>\n",
       "      <td>6898</td>\n",
       "    </tr>\n",
       "    <tr>\n",
       "      <th>357</th>\n",
       "      <td>6085</td>\n",
       "    </tr>\n",
       "  </tbody>\n",
       "</table>\n",
       "<p>150 rows × 1 columns</p>\n",
       "</div>"
      ],
      "text/plain": [
       "     sell price($)\n",
       "39            5128\n",
       "14           26522\n",
       "388          20045\n",
       "179          16530\n",
       "258          14562\n",
       "..             ...\n",
       "185          20010\n",
       "378          21963\n",
       "409           9093\n",
       "470           6898\n",
       "357           6085\n",
       "\n",
       "[150 rows x 1 columns]"
      ]
     },
     "execution_count": 14,
     "metadata": {},
     "output_type": "execute_result"
    }
   ],
   "source": [
    "Y_test"
   ]
  },
  {
   "cell_type": "code",
   "execution_count": 15,
   "id": "a06fe685",
   "metadata": {},
   "outputs": [
    {
     "data": {
      "text/plain": [
       "0.9120399536155539"
      ]
     },
     "execution_count": 15,
     "metadata": {},
     "output_type": "execute_result"
    }
   ],
   "source": [
    "model.score(X_test,Y_test)"
   ]
  },
  {
   "cell_type": "code",
   "execution_count": 16,
   "id": "8b771171",
   "metadata": {},
   "outputs": [
    {
     "data": {
      "text/plain": [
       "0.9130672199704375"
      ]
     },
     "execution_count": 16,
     "metadata": {},
     "output_type": "execute_result"
    }
   ],
   "source": [
    "model.score(X_train,Y_train)"
   ]
  },
  {
   "cell_type": "markdown",
   "id": "7cb2a9f6",
   "metadata": {},
   "source": [
    "## Logistic Regression: Multiclass classification"
   ]
  },
  {
   "cell_type": "code",
   "execution_count": 17,
   "id": "a4501130",
   "metadata": {},
   "outputs": [],
   "source": [
    "from sklearn.datasets import load_digits\n",
    "# %matplotlib.inline\n",
    "import matplotlib.pyplot as plt\n",
    "digits=load_digits()"
   ]
  },
  {
   "cell_type": "code",
   "execution_count": 18,
   "id": "8caf11bb",
   "metadata": {},
   "outputs": [
    {
     "data": {
      "text/plain": [
       "<Figure size 640x480 with 0 Axes>"
      ]
     },
     "metadata": {},
     "output_type": "display_data"
    },
    {
     "data": {
      "image/png": "[encoded data removed]",
      "text/plain": [
       "<Figure size 480x480 with 1 Axes>"
      ]
     },
     "metadata": {},
     "output_type": "display_data"
    },
    {
     "data": {
      "image/png": "[encoded data removed]",
      "text/plain": [
       "<Figure size 480x480 with 1 Axes>"
      ]
     },
     "metadata": {},
     "output_type": "display_data"
    },
    {
     "data": {
      "image/png": "[encoded data removed]",
      "text/plain": [
       "<Figure size 480x480 with 1 Axes>"
      ]
     },
     "metadata": {},
     "output_type": "display_data"
    },
    {
     "data": {
      "image/png": "[encoded data removed]",
      "text/plain": [
       "<Figure size 480x480 with 1 Axes>"
      ]
     },
     "metadata": {},
     "output_type": "display_data"
    },
    {
     "data": {
      "image/png": "[encoded data removed]",
      "text/plain": [
       "<Figure size 480x480 with 1 Axes>"
      ]
     },
     "metadata": {},
     "output_type": "display_data"
    }
   ],
   "source": [
    "plt.gray()\n",
    "for i in range(5):\n",
    "    plt.matshow(digits.images[i])"
   ]
  },
  {
   "cell_type": "code",
   "execution_count": 19,
   "id": "f981d318",
   "metadata": {},
   "outputs": [
    {
     "data": {
      "text/plain": [
       "['DESCR', 'data', 'feature_names', 'frame', 'images', 'target', 'target_names']"
      ]
     },
     "execution_count": 19,
     "metadata": {},
     "output_type": "execute_result"
    }
   ],
   "source": [
    "dir(digits)"
   ]
  },
  {
   "cell_type": "code",
   "execution_count": 20,
   "id": "63f85e64",
   "metadata": {},
   "outputs": [
    {
     "data": {
      "text/plain": [
       "array([ 0.,  0.,  5., 13.,  9.,  1.,  0.,  0.,  0.,  0., 13., 15., 10.,\n",
       "       15.,  5.,  0.,  0.,  3., 15.,  2.,  0., 11.,  8.,  0.,  0.,  4.,\n",
       "       12.,  0.,  0.,  8.,  8.,  0.,  0.,  5.,  8.,  0.,  0.,  9.,  8.,\n",
       "        0.,  0.,  4., 11.,  0.,  1., 12.,  7.,  0.,  0.,  2., 14.,  5.,\n",
       "       10., 12.,  0.,  0.,  0.,  0.,  6., 13., 10.,  0.,  0.,  0.])"
      ]
     },
     "execution_count": 20,
     "metadata": {},
     "output_type": "execute_result"
    }
   ],
   "source": [
    "digits.data[0]"
   ]
  },
  {
   "cell_type": "code",
   "execution_count": 21,
   "id": "fde30bba",
   "metadata": {},
   "outputs": [],
   "source": [
    "from sklearn.linear_model import LogisticRegression\n",
    "model=LogisticRegression()"
   ]
  },
  {
   "cell_type": "code",
   "execution_count": 22,
   "id": "37a19eed",
   "metadata": {},
   "outputs": [],
   "source": [
    "from sklearn.model_selection import train_test_split"
   ]
  },
  {
   "cell_type": "code",
   "execution_count": 23,
   "id": "b3a13070",
   "metadata": {},
   "outputs": [],
   "source": [
    "X_train,X_test,Y_train,Y_test=train_test_split(digits.data,digits.target,test_size=0.2)\n"
   ]
  },
  {
   "cell_type": "code",
   "execution_count": 24,
   "id": "ffbbf868",
   "metadata": {},
   "outputs": [
    {
     "data": {
      "text/plain": [
       "array([1, 0, 5, 2, 4, 5, 0, 4, 6, 1, 0, 3, 2, 9, 5, 9, 7, 7, 3, 6, 1, 8,\n",
       "       3, 4, 5, 4, 3, 8, 6, 3, 9, 0, 1, 0, 6, 5, 4, 9, 7, 5, 8, 8, 9, 0,\n",
       "       0, 5, 1, 1, 3, 7, 1, 3, 3, 3, 7, 4, 6, 8, 6, 7, 6, 4, 8, 4, 6, 1,\n",
       "       5, 7, 3, 2, 2, 9, 6, 0, 5, 0, 2, 5, 6, 5, 3, 5, 0, 4, 9, 9, 2, 9,\n",
       "       3, 0, 7, 7, 7, 3, 8, 5, 2, 4, 9, 9, 2, 8, 2, 0, 9, 8, 6, 7, 3, 9,\n",
       "       9, 9, 5, 8, 4, 7, 7, 0, 7, 6, 7, 7, 3, 7, 6, 0, 8, 6, 7, 8, 2, 0,\n",
       "       7, 0, 1, 8, 3, 7, 0, 0, 6, 1, 6, 4, 3, 2, 5, 8, 3, 8, 3, 2, 4, 0,\n",
       "       4, 3, 9, 6, 8, 6, 2, 3, 0, 1, 9, 1, 3, 6, 8, 8, 5, 6, 0, 6, 4, 0,\n",
       "       6, 5, 9, 9, 6, 0, 3, 4, 7, 4, 4, 1, 0, 2, 8, 9, 3, 6, 7, 1, 2, 8,\n",
       "       5, 5, 8, 6, 8, 8, 4, 2, 1, 2, 2, 1, 0, 5, 1, 0, 8, 5, 2, 4, 0, 1,\n",
       "       7, 1, 4, 9, 2, 1, 2, 3, 1, 0, 4, 8, 8, 8, 9, 4, 9, 2, 5, 3, 9, 6,\n",
       "       5, 1, 4, 1, 3, 5, 8, 9, 6, 9, 1, 6, 9, 5, 2, 2, 0, 9, 4, 2, 1, 0,\n",
       "       9, 7, 9, 4, 7, 4, 7, 4, 7, 9, 9, 0, 2, 7, 0, 7, 2, 3, 4, 9, 4, 2,\n",
       "       7, 7, 1, 8, 2, 8, 8, 5, 8, 1, 9, 9, 7, 8, 6, 5, 6, 5, 3, 9, 9, 5,\n",
       "       1, 2, 3, 5, 8, 7, 1, 5, 9, 8, 2, 1, 9, 1, 2, 9, 0, 2, 1, 3, 8, 1,\n",
       "       4, 4, 6, 1, 0, 9, 3, 5, 8, 6, 2, 8, 6, 1, 4, 9, 1, 7, 7, 5, 5, 6,\n",
       "       0, 3, 0, 7, 1, 7, 0, 9])"
      ]
     },
     "execution_count": 24,
     "metadata": {},
     "output_type": "execute_result"
    }
   ],
   "source": [
    "model.fit(X_train,Y_train)\n",
    "model.predict(X_test)"
   ]
  },
  {
   "cell_type": "code",
   "execution_count": 25,
   "id": "27dbbe42",
   "metadata": {},
   "outputs": [
    {
     "data": {
      "text/plain": [
       "0.9666666666666667"
      ]
     },
     "execution_count": 25,
     "metadata": {},
     "output_type": "execute_result"
    }
   ],
   "source": [
    "model.score(X_test,Y_test)"
   ]
  },
  {
   "cell_type": "code",
   "execution_count": 26,
   "id": "1c7e38ee",
   "metadata": {},
   "outputs": [
    {
     "data": {
      "text/plain": [
       "array([1, 9, 3, ..., 3, 5, 3], shape=(1437,))"
      ]
     },
     "execution_count": 26,
     "metadata": {},
     "output_type": "execute_result"
    }
   ],
   "source": [
    "Y_train\n"
   ]
  },
  {
   "cell_type": "code",
   "execution_count": 27,
   "id": "b70d4230",
   "metadata": {},
   "outputs": [
    {
     "data": {
      "text/plain": [
       "array([[ 0.,  0.,  0., ..., 10.,  0.,  0.],\n",
       "       [ 0.,  0., 11., ...,  3.,  0.,  0.],\n",
       "       [ 0.,  2., 11., ..., 11.,  3.,  0.],\n",
       "       ...,\n",
       "       [ 0.,  2., 10., ...,  9.,  0.,  0.],\n",
       "       [ 0.,  0.,  7., ...,  0.,  0.,  0.],\n",
       "       [ 0.,  1.,  8., ...,  7.,  0.,  0.]], shape=(1437, 64))"
      ]
     },
     "execution_count": 27,
     "metadata": {},
     "output_type": "execute_result"
    }
   ],
   "source": [
    "X_train"
   ]
  },
  {
   "cell_type": "code",
   "execution_count": 28,
   "id": "933e658a",
   "metadata": {},
   "outputs": [
    {
     "data": {
      "text/plain": [
       "array([0, 1, 2, 3, 4])"
      ]
     },
     "execution_count": 28,
     "metadata": {},
     "output_type": "execute_result"
    }
   ],
   "source": [
    "model.predict(digits.data[0:5])"
   ]
  },
  {
   "cell_type": "markdown",
   "id": "69a30162",
   "metadata": {},
   "source": [
    "# Confusion matrix"
   ]
  },
  {
   "cell_type": "code",
   "execution_count": 29,
   "id": "acd8855e",
   "metadata": {},
   "outputs": [],
   "source": [
    "y_predicted=model.predict(X_test)"
   ]
  },
  {
   "cell_type": "code",
   "execution_count": 30,
   "id": "e5962c3c",
   "metadata": {},
   "outputs": [
    {
     "data": {
      "text/plain": [
       "array([[37,  0,  0,  0,  0,  0,  0,  0,  0,  0],\n",
       "       [ 0, 34,  0,  0,  0,  0,  0,  0,  1,  0],\n",
       "       [ 0,  0, 33,  0,  0,  0,  0,  0,  0,  0],\n",
       "       [ 0,  0,  0, 33,  0,  0,  0,  0,  0,  0],\n",
       "       [ 0,  0,  0,  0, 32,  0,  1,  0,  0,  0],\n",
       "       [ 0,  0,  0,  0,  0, 34,  0,  0,  0,  3],\n",
       "       [ 0,  0,  0,  0,  0,  0, 33,  0,  0,  0],\n",
       "       [ 0,  0,  0,  0,  0,  0,  0, 37,  1,  0],\n",
       "       [ 0,  3,  1,  0,  1,  0,  0,  0, 35,  0],\n",
       "       [ 0,  0,  0,  0,  0,  0,  0,  0,  1, 40]])"
      ]
     },
     "execution_count": 30,
     "metadata": {},
     "output_type": "execute_result"
    }
   ],
   "source": [
    "from sklearn.metrics import confusion_matrix\n",
    "cm=confusion_matrix(Y_test,y_predicted)\n",
    "cm"
   ]
  },
  {
   "cell_type": "code",
   "execution_count": 31,
   "id": "61fd29a1",
   "metadata": {},
   "outputs": [
    {
     "data": {
      "image/png": "[encoded data removed]",
      "text/plain": [
       "<Figure size 1000x700 with 2 Axes>"
      ]
     },
     "metadata": {},
     "output_type": "display_data"
    }
   ],
   "source": [
    "import seaborn as sns\n",
    "plt.figure(figsize=(10,7))\n",
    "sns.heatmap(cm,annot=True)\n",
    "plt.show()"
   ]
  }
 ],
 "metadata": {
  "kernelspec": {
   "display_name": "ml_internship",
   "language": "python",
   "name": "python3"
  },
  "language_info": {
   "codemirror_mode": {
    "name": "ipython",
    "version": 3
   },
   "file_extension": ".py",
   "mimetype": "text/x-python",
   "name": "python",
   "nbconvert_exporter": "python",
   "pygments_lexer": "ipython3",
   "version": "3.13.2"
  }
 },
 "nbformat": 4,
 "nbformat_minor": 5
}
